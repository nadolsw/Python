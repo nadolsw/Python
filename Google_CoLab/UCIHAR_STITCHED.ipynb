{
  "nbformat": 4,
  "nbformat_minor": 0,
  "metadata": {
    "colab": {
      "name": "UCIHAR - STITCHED.ipynb",
      "version": "0.3.2",
      "provenance": [],
      "collapsed_sections": [],
      "machine_shape": "hm"
    },
    "kernelspec": {
      "name": "python3",
      "display_name": "Python 3"
    },
    "accelerator": "GPU"
  },
  "cells": [
    {
      "cell_type": "code",
      "metadata": {
        "id": "MQf2GjFQ5qeX",
        "colab_type": "code",
        "outputId": "94948432-f845-4d36-f3c4-5a63be209c7c",
        "colab": {
          "resources": {
            "http://localhost:8080/nbextensions/google.colab/files.js": {
              "data": "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",
              "ok": true,
              "headers": [
                [
                  "content-type",
                  "application/javascript"
                ]
              ],
              "status": 200,
              "status_text": ""
            }
          },
          "base_uri": "https://localhost:8080/",
          "height": 74
        }
      },
      "source": [
        "#####################################################\n",
        "###### UPLOAD LOCAL FILE TO WORKING DIRECTORY #######\n",
        "#####################################################\n",
        "\n",
        "#from google.colab import files\n",
        "#uploaded = files.upload()"
      ],
      "execution_count": 0,
      "outputs": [
        {
          "output_type": "display_data",
          "data": {
            "text/html": [
              "\n",
              "     <input type=\"file\" id=\"files-88bda8c8-ae8f-4936-bf7a-1f95d8eca850\" name=\"files[]\" multiple disabled />\n",
              "     <output id=\"result-88bda8c8-ae8f-4936-bf7a-1f95d8eca850\">\n",
              "      Upload widget is only available when the cell has been executed in the\n",
              "      current browser session. Please rerun this cell to enable.\n",
              "      </output>\n",
              "      <script src=\"/nbextensions/google.colab/files.js\"></script> "
            ],
            "text/plain": [
              "<IPython.core.display.HTML object>"
            ]
          },
          "metadata": {
            "tags": []
          }
        },
        {
          "output_type": "stream",
          "text": [
            "Saving data.zip to data.zip\n"
          ],
          "name": "stdout"
        }
      ]
    },
    {
      "cell_type": "code",
      "metadata": {
        "id": "BLvFxuzT9T1n",
        "colab_type": "code",
        "outputId": "bfb4a329-8c71-4ad2-ead4-239b94a148df",
        "colab": {
          "base_uri": "https://localhost:8080/",
          "height": 238
        }
      },
      "source": [
        "# -*- coding: utf-8 -*-\n",
        "\"\"\"\n",
        "Created on Sun Jun 16 12:36:30 2019\n",
        "@author: William Nadolski (winado)\n",
        "Created based on the following tutorial: http://ataspinar.com/2018/04/04/machine-learning-with-signal-processing-techniques/\n",
        "\"\"\"\n",
        "##################################\n",
        "### INSTALL NECESSARY PACKAGES ###\n",
        "##################################\n",
        "\n",
        "#If first time running then execute the following from OS command line\n",
        "#Additional options are necessary for installing from within Jupyter\n",
        "\n",
        "#import os\n",
        "#import sys\n",
        "#!{sys.executable} -m pip install --user siml\n",
        "#!{sys.executable} -m pip install --user xgboost\n",
        "#!{sys.executable} -m pip install --user seaborn\n",
        "#!{sys.executable} -m pip install --user pywavelets\n",
        "#!{sys.executable} -m pip install --user tensorflow-gpu\n",
        "#!{sys.executable} -m pip install --user keras"
      ],
      "execution_count": 0,
      "outputs": [
        {
          "output_type": "stream",
          "text": [
            "Collecting siml\n",
            "  Downloading https://files.pythonhosted.org/packages/09/1a/a49558fcf0b2499b006334b3a1e752d7bfc166d4778848435a60d590fa8b/siml-0.2.1.tar.gz\n",
            "Requirement already satisfied: numpy in /usr/local/lib/python3.6/dist-packages (from siml) (1.16.4)\n",
            "Requirement already satisfied: scikit-learn in /usr/local/lib/python3.6/dist-packages (from siml) (0.21.3)\n",
            "Requirement already satisfied: joblib>=0.11 in /usr/local/lib/python3.6/dist-packages (from scikit-learn->siml) (0.13.2)\n",
            "Requirement already satisfied: scipy>=0.17.0 in /usr/local/lib/python3.6/dist-packages (from scikit-learn->siml) (1.3.0)\n",
            "Building wheels for collected packages: siml\n",
            "  Building wheel for siml (setup.py) ... \u001b[?25l\u001b[?25hdone\n",
            "  Created wheel for siml: filename=siml-0.2.1-cp36-none-any.whl size=19879 sha256=06f93967e15cf10b3c6f5d4ec7c5f41c94e16052784c470b0cf097f1c8706e19\n",
            "  Stored in directory: /root/.cache/pip/wheels/f2/8d/36/68e58ff0a4b13cd5f2aa666139adf7213afb58781849b0044a\n",
            "Successfully built siml\n",
            "Installing collected packages: siml\n",
            "Successfully installed siml-0.2.1\n"
          ],
          "name": "stdout"
        }
      ]
    },
    {
      "cell_type": "code",
      "metadata": {
        "id": "_egnWjWg9DyI",
        "colab_type": "code",
        "outputId": "2f911381-85c8-4f83-d24e-bc8ab36ec553",
        "colab": {
          "base_uri": "https://localhost:8080/",
          "height": 561
        }
      },
      "source": [
        "#################################\n",
        "### IMPORT NECESSARY PACKAGES ###\n",
        "#################################\n",
        "\n",
        "#%% IMPORT NECESSARY PACKAGES\n",
        "\n",
        "import os\n",
        "import sys\n",
        "import glob\n",
        "import pywt\n",
        "import time\n",
        "import scipy\n",
        "import matplotlib\n",
        "import matplotlib.pyplot as plt\n",
        "import matplotlib.image as mpimg\n",
        "#matplotlib.use(\"TkAgg\")\n",
        "import numpy as np\n",
        "import tensorflow as tf\n",
        "from collections import defaultdict, Counter\n",
        "from skimage import data, color\n",
        "from skimage.transform import rescale, resize, downscale_local_mean\n",
        " \n",
        "import keras\n",
        "from keras.layers import Activation, Dense, Flatten, Conv2D, MaxPooling2D, Dropout\n",
        "from keras.models import Sequential\n",
        "from keras.callbacks import History\n",
        "from keras.layers import LeakyReLU\n",
        "history = History()\n",
        " \n",
        "#Check to see whether TF is utilizing GPU or CPU\n",
        "sess = tf.Session(config=tf.ConfigProto(log_device_placement=True))\n",
        "from tensorflow.python.client import device_lib\n",
        "print(device_lib.list_local_devices())"
      ],
      "execution_count": 0,
      "outputs": [
        {
          "output_type": "stream",
          "text": [
            "Using TensorFlow backend.\n"
          ],
          "name": "stderr"
        },
        {
          "output_type": "stream",
          "text": [
            "[name: \"/device:CPU:0\"\n",
            "device_type: \"CPU\"\n",
            "memory_limit: 268435456\n",
            "locality {\n",
            "}\n",
            "incarnation: 16570092551011651856\n",
            ", name: \"/device:XLA_CPU:0\"\n",
            "device_type: \"XLA_CPU\"\n",
            "memory_limit: 17179869184\n",
            "locality {\n",
            "}\n",
            "incarnation: 7388938946905628355\n",
            "physical_device_desc: \"device: XLA_CPU device\"\n",
            ", name: \"/device:XLA_GPU:0\"\n",
            "device_type: \"XLA_GPU\"\n",
            "memory_limit: 17179869184\n",
            "locality {\n",
            "}\n",
            "incarnation: 15664847874277106190\n",
            "physical_device_desc: \"device: XLA_GPU device\"\n",
            ", name: \"/device:GPU:0\"\n",
            "device_type: \"GPU\"\n",
            "memory_limit: 14892338381\n",
            "locality {\n",
            "  bus_id: 1\n",
            "  links {\n",
            "  }\n",
            "}\n",
            "incarnation: 8705745639190423045\n",
            "physical_device_desc: \"device: 0, name: Tesla T4, pci bus id: 0000:00:04.0, compute capability: 7.5\"\n",
            "]\n"
          ],
          "name": "stdout"
        }
      ]
    },
    {
      "cell_type": "code",
      "metadata": {
        "id": "_8TekFn2_rMq",
        "colab_type": "code",
        "outputId": "8aaa7178-b448-45d6-f150-fc3701eb5cb5",
        "colab": {
          "base_uri": "https://localhost:8080/",
          "height": 122
        }
      },
      "source": [
        "#################################\n",
        "#### CONNECT TO GOOGLE DRIVE ####\n",
        "#################################\n",
        "\n",
        "from google.colab import drive\n",
        "drive.mount('/content/gdrive')"
      ],
      "execution_count": 0,
      "outputs": [
        {
          "output_type": "stream",
          "text": [
            "Go to this URL in a browser: https://accounts.google.com/o/oauth2/auth?client_id=947318989803-6bn6qk8qdgf4n4g3pfee6491hc0brc4i.apps.googleusercontent.com&redirect_uri=urn%3Aietf%3Awg%3Aoauth%3A2.0%3Aoob&scope=email%20https%3A%2F%2Fwww.googleapis.com%2Fauth%2Fdocs.test%20https%3A%2F%2Fwww.googleapis.com%2Fauth%2Fdrive%20https%3A%2F%2Fwww.googleapis.com%2Fauth%2Fdrive.photos.readonly%20https%3A%2F%2Fwww.googleapis.com%2Fauth%2Fpeopleapi.readonly&response_type=code\n",
            "\n",
            "Enter your authorization code:\n",
            "··········\n",
            "Mounted at /content/gdrive\n"
          ],
          "name": "stdout"
        }
      ]
    },
    {
      "cell_type": "code",
      "metadata": {
        "id": "Wnu8fF3A-g0l",
        "colab_type": "code",
        "outputId": "d19ad573-cdea-4598-908b-c05f6d26b70b",
        "colab": {
          "base_uri": "https://localhost:8080/",
          "height": 374
        }
      },
      "source": [
        "##########################\n",
        "#### LIST DIRECTORIES ####\n",
        "##########################\n",
        "\n",
        "import glob\n",
        "path = '/content/gdrive/My Drive/data/'\n",
        "folders = [f for f in glob.glob(path + \"**/\", recursive=True)]\n",
        "for f in folders:\n",
        "    print(f)"
      ],
      "execution_count": 0,
      "outputs": [
        {
          "output_type": "stream",
          "text": [
            "/content/gdrive/My Drive/data/\n",
            "/content/gdrive/My Drive/data/UCI HAR Dataset/\n",
            "/content/gdrive/My Drive/data/UCI HAR Dataset/test/\n",
            "/content/gdrive/My Drive/data/UCI HAR Dataset/test/Inertial Signals/\n",
            "/content/gdrive/My Drive/data/UCI HAR Dataset/train/\n",
            "/content/gdrive/My Drive/data/UCI HAR Dataset/train/Inertial Signals/\n",
            "/content/gdrive/My Drive/data/Stitched/\n",
            "/content/gdrive/My Drive/data/Stitched/test/\n",
            "/content/gdrive/My Drive/data/Stitched/test/sitting/\n",
            "/content/gdrive/My Drive/data/Stitched/test/walking_upstairs/\n",
            "/content/gdrive/My Drive/data/Stitched/test/walking/\n",
            "/content/gdrive/My Drive/data/Stitched/test/walking_downstairs/\n",
            "/content/gdrive/My Drive/data/Stitched/test/laying/\n",
            "/content/gdrive/My Drive/data/Stitched/test/standing/\n",
            "/content/gdrive/My Drive/data/Stitched/train/\n",
            "/content/gdrive/My Drive/data/Stitched/train/standing/\n",
            "/content/gdrive/My Drive/data/Stitched/train/walking/\n",
            "/content/gdrive/My Drive/data/Stitched/train/sitting/\n",
            "/content/gdrive/My Drive/data/Stitched/train/laying/\n",
            "/content/gdrive/My Drive/data/Stitched/train/walking_downstairs/\n",
            "/content/gdrive/My Drive/data/Stitched/train/walking_upstairs/\n"
          ],
          "name": "stdout"
        }
      ]
    },
    {
      "cell_type": "code",
      "metadata": {
        "id": "U3VLzFrlEESY",
        "colab_type": "code",
        "outputId": "d57f1c24-7b91-4c6a-ed3e-11f865fc1589",
        "colab": {
          "base_uri": "https://localhost:8080/",
          "height": 833
        }
      },
      "source": [
        "#%% IMPORT STITCHED HAR SPECTROGRAM IMAGES\n",
        "\n",
        "activity_labels = ['walking', 'walking_upstairs', 'walking_downstairs', 'sitting', 'standing', 'laying']\n",
        "label_values = [ 0, 1, 2, 3, 4, 5 ]\n",
        "class_levels = len(label_values)\n",
        "\n",
        "img_dir_train='/content/gdrive/My Drive/data/Stitched/train/'\n",
        "img_dir_test='/content/gdrive/My Drive/data/Stitched/test/'\n",
        "\n",
        "train_images, train_labels = [] , []\n",
        "test_images, test_labels = [] , []\n",
        "\n",
        "#Resize image dimensions to be\n",
        "height = 128\n",
        "width = 128\n",
        "depth = 3\n",
        " \n",
        "#Load images and activity labels from folder path\n",
        "def load_images_from_folder(folder):\n",
        "    images = []\n",
        "    labels = []\n",
        "    for ii in range(0,class_levels):\n",
        "        activity = activity_labels[ii]\n",
        "        value = label_values[ii]\n",
        "        subpath = (folder + activity + '/')\n",
        "        print(\"iteration #{}\".format(ii))\n",
        "        print(\"label value is: {}\".format(value))\n",
        "        print(\"activity label: {}\".format(activity))\n",
        "        print(\"reading images from: {}\".format(subpath))\n",
        "        for filename in os.listdir(subpath):\n",
        "            filepath = os.path.join(subpath,filename)\n",
        "            #print(filepath)\n",
        "            img = mpimg.imread(filepath)\n",
        "            img = resize(img, (width,height,depth), anti_aliasing=True)\n",
        "            images.append(img)\n",
        "            labels.append(value)\n",
        "    return images, labels\n",
        "\n",
        "test_images, test_labels = load_images_from_folder(img_dir_test) #Load test images by label (based on subdir)\n",
        "test_images = np.stack(test_images,axis=0) #Reshape list of 3D arrays into single 4D array\n",
        "\n",
        "train_images, train_labels = load_images_from_folder(img_dir_train) #Load test images by label (based on subdir)\n",
        "train_images = np.stack(train_images,axis=0) #Reshape list of 3D arrays into single 4D array\n",
        "\n",
        "def randomize(dataset, labels):\n",
        "    permutation = np.random.permutation(labels.shape[0])\n",
        "    shuffled_dataset = dataset[permutation, :, :]\n",
        "    shuffled_labels = labels[permutation]\n",
        "    return shuffled_dataset, shuffled_labels\n",
        "\n",
        "#Shuffle data while retaining mapping with labels\n",
        "train_images, train_labels = randomize(train_images, np.array(train_labels))\n",
        "test_images, test_labels = randomize(test_images, np.array(test_labels))"
      ],
      "execution_count": 0,
      "outputs": [
        {
          "output_type": "stream",
          "text": [
            "iteration #0\n",
            "label value is: 0\n",
            "activity label: walking\n",
            "reading images from: /content/gdrive/My Drive/data/Stitched/test/walking/\n",
            "iteration #1\n",
            "label value is: 1\n",
            "activity label: walking_upstairs\n",
            "reading images from: /content/gdrive/My Drive/data/Stitched/test/walking_upstairs/\n",
            "iteration #2\n",
            "label value is: 2\n",
            "activity label: walking_downstairs\n",
            "reading images from: /content/gdrive/My Drive/data/Stitched/test/walking_downstairs/\n",
            "iteration #3\n",
            "label value is: 3\n",
            "activity label: sitting\n",
            "reading images from: /content/gdrive/My Drive/data/Stitched/test/sitting/\n",
            "iteration #4\n",
            "label value is: 4\n",
            "activity label: standing\n",
            "reading images from: /content/gdrive/My Drive/data/Stitched/test/standing/\n",
            "iteration #5\n",
            "label value is: 5\n",
            "activity label: laying\n",
            "reading images from: /content/gdrive/My Drive/data/Stitched/test/laying/\n",
            "iteration #0\n",
            "label value is: 0\n",
            "activity label: walking\n",
            "reading images from: /content/gdrive/My Drive/data/Stitched/train/walking/\n",
            "iteration #1\n",
            "label value is: 1\n",
            "activity label: walking_upstairs\n",
            "reading images from: /content/gdrive/My Drive/data/Stitched/train/walking_upstairs/\n",
            "iteration #2\n",
            "label value is: 2\n",
            "activity label: walking_downstairs\n",
            "reading images from: /content/gdrive/My Drive/data/Stitched/train/walking_downstairs/\n",
            "iteration #3\n",
            "label value is: 3\n",
            "activity label: sitting\n",
            "reading images from: /content/gdrive/My Drive/data/Stitched/train/sitting/\n",
            "iteration #4\n",
            "label value is: 4\n",
            "activity label: standing\n",
            "reading images from: /content/gdrive/My Drive/data/Stitched/train/standing/\n",
            "iteration #5\n",
            "label value is: 5\n",
            "activity label: laying\n",
            "reading images from: /content/gdrive/My Drive/data/Stitched/train/laying/\n"
          ],
          "name": "stdout"
        }
      ]
    },
    {
      "cell_type": "code",
      "metadata": {
        "id": "NY4Sc3ylGfAW",
        "colab_type": "code",
        "outputId": "87394d6c-5a71-4f23-cbc2-b08a22f09dce",
        "colab": {
          "base_uri": "https://localhost:8080/",
          "height": 68
        }
      },
      "source": [
        "#%%PREP DATA FOR CNN USING KERAS\n",
        "\n",
        "Ytrain = list(train_labels[:len(train_labels)])\n",
        "Ytest = list(test_labels[:len(test_labels)])\n",
        "\n",
        "input_shape = (width, height, depth)\n",
        "\n",
        "#convert the data to the right type\n",
        "Xtrain = train_images.astype('float32')\n",
        "Xtest = test_images.astype('float32')\n",
        "\n",
        "print('Xtrain shape:', Xtrain.shape)\n",
        "print(Xtrain.shape[0], 'train samples')\n",
        "print(Xtest.shape[0], 'test samples')\n",
        "\n",
        "#convert class vectors to binary class matrices - this is for use in categorical_crossentropy loss below\n",
        "Ytrain = keras.utils.to_categorical(train_labels, class_levels)\n",
        "Ytest = keras.utils.to_categorical(test_labels, class_levels)"
      ],
      "execution_count": 0,
      "outputs": [
        {
          "output_type": "stream",
          "text": [
            "Xtrain shape: (7899, 128, 128, 3)\n",
            "7899 train samples\n",
            "2400 test samples\n"
          ],
          "name": "stdout"
        }
      ]
    },
    {
      "cell_type": "code",
      "metadata": {
        "id": "0ZmkPes9GbvX",
        "colab_type": "code",
        "colab": {}
      },
      "source": [
        "#%%BUILD AND TRAIN CNN MODEL USING ONLY CWT FEATURES (SPECTROGRAM IMAGES)\n",
        "\n",
        "#Specify hyperparameters (may need to tune to optimize performance)\n",
        "def train_CNN(batch_size=64, epochs=100, lr=0.001):\n",
        "    model = Sequential()\n",
        "    model.add(Conv2D(32, kernel_size=(5, 5), strides=(1, 1), activation='relu', input_shape=input_shape))\n",
        "    model.add(MaxPooling2D(pool_size=(2, 2), strides=(2, 2)))\n",
        "    model.add(Dropout(0.025))\n",
        "    model.add(Conv2D(64, (5, 5), activation='relu'))\n",
        "    model.add(MaxPooling2D(pool_size=(2, 2)))\n",
        "    model.add(Dropout(0.025))\n",
        "    model.add(Flatten())\n",
        "    model.add(Dense(1000, activation='relu'))\n",
        "    model.add(Dropout(0.50))\n",
        "    model.add(Dense(class_levels, activation='softmax'))\n",
        " \n",
        "    model.compile(loss=keras.losses.categorical_crossentropy,\n",
        "              optimizer=keras.optimizers.Adam(lr=lr, decay=0.0, amsgrad=False),\n",
        "              metrics=['accuracy'])\n",
        "\n",
        "    model.fit(Xtrain, Ytrain, batch_size=batch_size,\n",
        "              epochs=epochs, verbose=1,\n",
        "              validation_data=(Xtest, Ytest),\n",
        "              callbacks=[history])\n",
        "\n",
        "    train_score = model.evaluate(Xtrain, Ytrain, verbose=0)\n",
        "    print('Train loss: {}, Train accuracy: {}'.format(train_score[0], train_score[1]))\n",
        "    test_score = model.evaluate(Xtest, Ytest, verbose=0)\n",
        "    print('Test loss: {}, Test accuracy: {}'.format(test_score[0], test_score[1]))\n",
        "\n",
        "#Plot model performance over all epochs\n",
        "def plot_epochs(epochs):\n",
        "    fig, axarr = plt.subplots(figsize=(12,6), ncols=2)\n",
        "    axarr[0].plot(range(1, epochs+1), history.history['acc'], label='train score')\n",
        "    axarr[0].plot(range(1, epochs+1), history.history['val_acc'], label='test score')\n",
        "    axarr[0].set_xlabel('Number of Epochs', fontsize=18)\n",
        "    axarr[0].set_ylabel('Accuracy', fontsize=18)\n",
        "    axarr[0].set_ylim([0,1])\n",
        "    axarr[1].plot(range(1, epochs+1), history.history['acc'], label='train score')\n",
        "    axarr[1].plot(range(1, epochs+1), history.history['val_acc'], label='test score')\n",
        "    axarr[1].set_xlabel('Number of Epochs', fontsize=18)\n",
        "    axarr[1].set_ylabel('Accuracy', fontsize=18)\n",
        "    axarr[1].set_ylim([0.75,1])\n",
        "    plt.legend()\n",
        "    plt.show()"
      ],
      "execution_count": 0,
      "outputs": []
    },
    {
      "cell_type": "code",
      "metadata": {
        "id": "FdEuLobMGXKK",
        "colab_type": "code",
        "outputId": "16c0e04c-b578-4943-a6cf-57cb9ef1d91f",
        "colab": {
          "base_uri": "https://localhost:8080/",
          "height": 1000
        }
      },
      "source": [
        "#TRAIN CNN MODEL\n",
        "train_CNN(batch_size=64, epochs=100, lr=0.001)\n",
        "plot_epochs(epochs=100)"
      ],
      "execution_count": 0,
      "outputs": [
        {
          "output_type": "stream",
          "text": [
            "WARNING: Logging before flag parsing goes to stderr.\n",
            "W0806 15:41:11.110976 139842235275136 deprecation_wrapper.py:119] From /usr/local/lib/python3.6/dist-packages/keras/backend/tensorflow_backend.py:74: The name tf.get_default_graph is deprecated. Please use tf.compat.v1.get_default_graph instead.\n",
            "\n",
            "W0806 15:41:11.114266 139842235275136 deprecation_wrapper.py:119] From /usr/local/lib/python3.6/dist-packages/keras/backend/tensorflow_backend.py:517: The name tf.placeholder is deprecated. Please use tf.compat.v1.placeholder instead.\n",
            "\n",
            "W0806 15:41:11.128478 139842235275136 deprecation_wrapper.py:119] From /usr/local/lib/python3.6/dist-packages/keras/backend/tensorflow_backend.py:4138: The name tf.random_uniform is deprecated. Please use tf.random.uniform instead.\n",
            "\n",
            "W0806 15:41:11.163013 139842235275136 deprecation_wrapper.py:119] From /usr/local/lib/python3.6/dist-packages/keras/backend/tensorflow_backend.py:3976: The name tf.nn.max_pool is deprecated. Please use tf.nn.max_pool2d instead.\n",
            "\n",
            "W0806 15:41:11.165860 139842235275136 deprecation_wrapper.py:119] From /usr/local/lib/python3.6/dist-packages/keras/backend/tensorflow_backend.py:133: The name tf.placeholder_with_default is deprecated. Please use tf.compat.v1.placeholder_with_default instead.\n",
            "\n",
            "W0806 15:41:11.175014 139842235275136 deprecation.py:506] From /usr/local/lib/python3.6/dist-packages/keras/backend/tensorflow_backend.py:3445: calling dropout (from tensorflow.python.ops.nn_ops) with keep_prob is deprecated and will be removed in a future version.\n",
            "Instructions for updating:\n",
            "Please use `rate` instead of `keep_prob`. Rate should be set to `rate = 1 - keep_prob`.\n",
            "W0806 15:41:11.274775 139842235275136 deprecation_wrapper.py:119] From /usr/local/lib/python3.6/dist-packages/keras/optimizers.py:790: The name tf.train.Optimizer is deprecated. Please use tf.compat.v1.train.Optimizer instead.\n",
            "\n",
            "W0806 15:41:11.281559 139842235275136 deprecation_wrapper.py:119] From /usr/local/lib/python3.6/dist-packages/keras/backend/tensorflow_backend.py:3295: The name tf.log is deprecated. Please use tf.math.log instead.\n",
            "\n",
            "W0806 15:41:11.392470 139842235275136 deprecation.py:323] From /usr/local/lib/python3.6/dist-packages/tensorflow/python/ops/math_grad.py:1250: add_dispatch_support.<locals>.wrapper (from tensorflow.python.ops.array_ops) is deprecated and will be removed in a future version.\n",
            "Instructions for updating:\n",
            "Use tf.where in 2.0, which has the same broadcast rule as np.where\n"
          ],
          "name": "stderr"
        },
        {
          "output_type": "stream",
          "text": [
            "Train on 7899 samples, validate on 2400 samples\n",
            "Epoch 1/100\n",
            "7899/7899 [==============================] - 19s 2ms/step - loss: 0.8736 - acc: 0.7325 - val_loss: 0.3441 - val_acc: 0.8550\n",
            "Epoch 2/100\n",
            "7899/7899 [==============================] - 12s 1ms/step - loss: 0.3370 - acc: 0.8615 - val_loss: 0.2654 - val_acc: 0.8925\n",
            "Epoch 3/100\n",
            "7899/7899 [==============================] - 12s 1ms/step - loss: 0.2665 - acc: 0.8916 - val_loss: 0.2470 - val_acc: 0.8975\n",
            "Epoch 4/100\n",
            "7899/7899 [==============================] - 11s 1ms/step - loss: 0.2218 - acc: 0.9125 - val_loss: 0.2403 - val_acc: 0.9050\n",
            "Epoch 5/100\n",
            "7899/7899 [==============================] - 12s 1ms/step - loss: 0.1869 - acc: 0.9239 - val_loss: 0.2319 - val_acc: 0.9017\n",
            "Epoch 6/100\n",
            "7899/7899 [==============================] - 12s 1ms/step - loss: 0.1505 - acc: 0.9404 - val_loss: 0.2195 - val_acc: 0.9067\n",
            "Epoch 7/100\n",
            "7899/7899 [==============================] - 12s 1ms/step - loss: 0.1283 - acc: 0.9486 - val_loss: 0.2087 - val_acc: 0.9129\n",
            "Epoch 8/100\n",
            "7899/7899 [==============================] - 12s 1ms/step - loss: 0.1022 - acc: 0.9590 - val_loss: 0.2234 - val_acc: 0.9071\n",
            "Epoch 9/100\n",
            "7899/7899 [==============================] - 12s 1ms/step - loss: 0.0786 - acc: 0.9699 - val_loss: 0.2233 - val_acc: 0.9179\n",
            "Epoch 10/100\n",
            "7899/7899 [==============================] - 11s 1ms/step - loss: 0.0714 - acc: 0.9732 - val_loss: 0.2625 - val_acc: 0.9113\n",
            "Epoch 11/100\n",
            "7899/7899 [==============================] - 12s 1ms/step - loss: 0.0708 - acc: 0.9756 - val_loss: 0.2812 - val_acc: 0.9104\n",
            "Epoch 12/100\n",
            "7899/7899 [==============================] - 12s 1ms/step - loss: 0.0545 - acc: 0.9795 - val_loss: 0.2733 - val_acc: 0.9179\n",
            "Epoch 13/100\n",
            "7899/7899 [==============================] - 12s 1ms/step - loss: 0.0469 - acc: 0.9828 - val_loss: 0.2830 - val_acc: 0.9054\n",
            "Epoch 14/100\n",
            "7899/7899 [==============================] - 12s 1ms/step - loss: 0.0427 - acc: 0.9842 - val_loss: 0.2767 - val_acc: 0.9233\n",
            "Epoch 15/100\n",
            "7899/7899 [==============================] - 12s 1ms/step - loss: 0.0348 - acc: 0.9873 - val_loss: 0.3374 - val_acc: 0.9150\n",
            "Epoch 16/100\n",
            "7899/7899 [==============================] - 12s 1ms/step - loss: 0.0329 - acc: 0.9897 - val_loss: 0.2787 - val_acc: 0.9204\n",
            "Epoch 17/100\n",
            "7899/7899 [==============================] - 12s 1ms/step - loss: 0.0239 - acc: 0.9920 - val_loss: 0.3202 - val_acc: 0.9200\n",
            "Epoch 18/100\n",
            "7899/7899 [==============================] - 12s 1ms/step - loss: 0.0263 - acc: 0.9905 - val_loss: 0.3590 - val_acc: 0.9158\n",
            "Epoch 19/100\n",
            "7899/7899 [==============================] - 12s 1ms/step - loss: 0.0229 - acc: 0.9927 - val_loss: 0.3298 - val_acc: 0.9196\n",
            "Epoch 20/100\n",
            "7899/7899 [==============================] - 12s 1ms/step - loss: 0.0274 - acc: 0.9901 - val_loss: 0.3042 - val_acc: 0.9183\n",
            "Epoch 21/100\n",
            "7899/7899 [==============================] - 12s 1ms/step - loss: 0.0256 - acc: 0.9903 - val_loss: 0.2993 - val_acc: 0.9196\n",
            "Epoch 22/100\n",
            "7899/7899 [==============================] - 12s 1ms/step - loss: 0.0242 - acc: 0.9923 - val_loss: 0.3898 - val_acc: 0.9154\n",
            "Epoch 23/100\n",
            "7899/7899 [==============================] - 12s 1ms/step - loss: 0.0214 - acc: 0.9925 - val_loss: 0.2997 - val_acc: 0.9267\n",
            "Epoch 24/100\n",
            "7899/7899 [==============================] - 12s 1ms/step - loss: 0.0247 - acc: 0.9913 - val_loss: 0.3893 - val_acc: 0.9187\n",
            "Epoch 25/100\n",
            "7899/7899 [==============================] - 12s 1ms/step - loss: 0.0255 - acc: 0.9915 - val_loss: 0.4201 - val_acc: 0.9146\n",
            "Epoch 26/100\n",
            "7899/7899 [==============================] - 12s 1ms/step - loss: 0.0228 - acc: 0.9923 - val_loss: 0.3559 - val_acc: 0.9196\n",
            "Epoch 27/100\n",
            "7899/7899 [==============================] - 12s 1ms/step - loss: 0.0173 - acc: 0.9940 - val_loss: 0.3829 - val_acc: 0.9196\n",
            "Epoch 28/100\n",
            "7899/7899 [==============================] - 12s 1ms/step - loss: 0.0214 - acc: 0.9939 - val_loss: 0.3323 - val_acc: 0.9221\n",
            "Epoch 29/100\n",
            "7899/7899 [==============================] - 12s 1ms/step - loss: 0.0176 - acc: 0.9943 - val_loss: 0.3798 - val_acc: 0.9208\n",
            "Epoch 30/100\n",
            "7899/7899 [==============================] - 11s 1ms/step - loss: 0.0195 - acc: 0.9934 - val_loss: 0.3410 - val_acc: 0.9121\n",
            "Epoch 31/100\n",
            "7899/7899 [==============================] - 11s 1ms/step - loss: 0.0138 - acc: 0.9959 - val_loss: 0.4168 - val_acc: 0.9237\n",
            "Epoch 32/100\n",
            "7899/7899 [==============================] - 12s 1ms/step - loss: 0.0095 - acc: 0.9970 - val_loss: 0.3872 - val_acc: 0.9258\n",
            "Epoch 33/100\n",
            "7899/7899 [==============================] - 12s 1ms/step - loss: 0.0218 - acc: 0.9938 - val_loss: 0.3980 - val_acc: 0.9208\n",
            "Epoch 34/100\n",
            "7899/7899 [==============================] - 12s 1ms/step - loss: 0.0208 - acc: 0.9943 - val_loss: 0.3939 - val_acc: 0.9242\n",
            "Epoch 35/100\n",
            "7899/7899 [==============================] - 11s 1ms/step - loss: 0.0182 - acc: 0.9935 - val_loss: 0.3114 - val_acc: 0.9183\n",
            "Epoch 36/100\n",
            "7899/7899 [==============================] - 12s 1ms/step - loss: 0.0199 - acc: 0.9930 - val_loss: 0.3535 - val_acc: 0.9208\n",
            "Epoch 37/100\n",
            "7899/7899 [==============================] - 12s 1ms/step - loss: 0.0081 - acc: 0.9972 - val_loss: 0.3984 - val_acc: 0.9271\n",
            "Epoch 38/100\n",
            "7899/7899 [==============================] - 12s 1ms/step - loss: 0.0109 - acc: 0.9971 - val_loss: 0.4007 - val_acc: 0.9221\n",
            "Epoch 39/100\n",
            "7899/7899 [==============================] - 11s 1ms/step - loss: 0.0118 - acc: 0.9963 - val_loss: 0.3507 - val_acc: 0.9246\n",
            "Epoch 40/100\n",
            "7899/7899 [==============================] - 11s 1ms/step - loss: 0.0075 - acc: 0.9976 - val_loss: 0.3981 - val_acc: 0.9167\n",
            "Epoch 41/100\n",
            "7899/7899 [==============================] - 11s 1ms/step - loss: 0.0089 - acc: 0.9968 - val_loss: 0.4094 - val_acc: 0.9204\n",
            "Epoch 42/100\n",
            "7899/7899 [==============================] - 11s 1ms/step - loss: 0.0116 - acc: 0.9961 - val_loss: 0.3766 - val_acc: 0.9237\n",
            "Epoch 43/100\n",
            "7899/7899 [==============================] - 11s 1ms/step - loss: 0.0095 - acc: 0.9963 - val_loss: 0.4082 - val_acc: 0.9142\n",
            "Epoch 44/100\n",
            "7899/7899 [==============================] - 12s 1ms/step - loss: 0.0133 - acc: 0.9957 - val_loss: 0.3616 - val_acc: 0.9167\n",
            "Epoch 45/100\n",
            "7899/7899 [==============================] - 12s 1ms/step - loss: 0.0089 - acc: 0.9968 - val_loss: 0.3865 - val_acc: 0.9237\n",
            "Epoch 46/100\n",
            "7899/7899 [==============================] - 12s 1ms/step - loss: 0.0108 - acc: 0.9962 - val_loss: 0.3875 - val_acc: 0.9237\n",
            "Epoch 47/100\n",
            "7899/7899 [==============================] - 12s 1ms/step - loss: 0.0238 - acc: 0.9920 - val_loss: 0.3975 - val_acc: 0.9225\n",
            "Epoch 48/100\n",
            "7899/7899 [==============================] - 12s 1ms/step - loss: 0.0182 - acc: 0.9944 - val_loss: 0.4241 - val_acc: 0.9175\n",
            "Epoch 49/100\n",
            "7899/7899 [==============================] - 12s 1ms/step - loss: 0.0101 - acc: 0.9968 - val_loss: 0.3870 - val_acc: 0.9183\n",
            "Epoch 50/100\n",
            "7899/7899 [==============================] - 11s 1ms/step - loss: 0.0077 - acc: 0.9976 - val_loss: 0.3845 - val_acc: 0.9258\n",
            "Epoch 51/100\n",
            "7899/7899 [==============================] - 11s 1ms/step - loss: 0.0029 - acc: 0.9991 - val_loss: 0.4564 - val_acc: 0.9263\n",
            "Epoch 52/100\n",
            "7899/7899 [==============================] - 11s 1ms/step - loss: 0.0105 - acc: 0.9965 - val_loss: 0.5021 - val_acc: 0.9192\n",
            "Epoch 53/100\n",
            "7899/7899 [==============================] - 11s 1ms/step - loss: 0.0172 - acc: 0.9946 - val_loss: 0.4451 - val_acc: 0.9154\n",
            "Epoch 54/100\n",
            "7899/7899 [==============================] - 11s 1ms/step - loss: 0.0162 - acc: 0.9949 - val_loss: 0.5337 - val_acc: 0.9133\n",
            "Epoch 55/100\n",
            "7899/7899 [==============================] - 11s 1ms/step - loss: 0.0119 - acc: 0.9961 - val_loss: 0.4259 - val_acc: 0.9250\n",
            "Epoch 56/100\n",
            "7899/7899 [==============================] - 11s 1ms/step - loss: 0.0121 - acc: 0.9959 - val_loss: 0.3926 - val_acc: 0.9221\n",
            "Epoch 57/100\n",
            "7899/7899 [==============================] - 11s 1ms/step - loss: 0.0054 - acc: 0.9982 - val_loss: 0.4559 - val_acc: 0.9192\n",
            "Epoch 58/100\n",
            "7899/7899 [==============================] - 11s 1ms/step - loss: 0.0097 - acc: 0.9968 - val_loss: 0.4474 - val_acc: 0.9179\n",
            "Epoch 59/100\n",
            "7899/7899 [==============================] - 12s 1ms/step - loss: 0.0058 - acc: 0.9981 - val_loss: 0.3851 - val_acc: 0.9254\n",
            "Epoch 60/100\n",
            "7899/7899 [==============================] - 12s 1ms/step - loss: 0.0049 - acc: 0.9985 - val_loss: 0.4393 - val_acc: 0.9267\n",
            "Epoch 61/100\n",
            "7899/7899 [==============================] - 11s 1ms/step - loss: 0.0058 - acc: 0.9981 - val_loss: 0.4507 - val_acc: 0.9246\n",
            "Epoch 62/100\n",
            "7899/7899 [==============================] - 11s 1ms/step - loss: 0.0074 - acc: 0.9972 - val_loss: 0.4724 - val_acc: 0.9200\n",
            "Epoch 63/100\n",
            "7899/7899 [==============================] - 12s 1ms/step - loss: 0.0052 - acc: 0.9981 - val_loss: 0.4667 - val_acc: 0.9229\n",
            "Epoch 64/100\n",
            "7899/7899 [==============================] - 12s 1ms/step - loss: 0.0064 - acc: 0.9978 - val_loss: 0.4015 - val_acc: 0.9237\n",
            "Epoch 65/100\n",
            "7899/7899 [==============================] - 11s 1ms/step - loss: 0.0053 - acc: 0.9980 - val_loss: 0.4832 - val_acc: 0.9187\n",
            "Epoch 66/100\n",
            "7899/7899 [==============================] - 12s 1ms/step - loss: 0.0114 - acc: 0.9965 - val_loss: 0.4947 - val_acc: 0.9163\n",
            "Epoch 67/100\n",
            "7899/7899 [==============================] - 12s 1ms/step - loss: 0.0090 - acc: 0.9972 - val_loss: 0.4255 - val_acc: 0.9196\n",
            "Epoch 68/100\n",
            "7899/7899 [==============================] - 12s 1ms/step - loss: 0.0121 - acc: 0.9966 - val_loss: 0.5144 - val_acc: 0.9154\n",
            "Epoch 69/100\n",
            "7899/7899 [==============================] - 12s 1ms/step - loss: 0.0069 - acc: 0.9978 - val_loss: 0.4382 - val_acc: 0.9250\n",
            "Epoch 70/100\n",
            "7899/7899 [==============================] - 12s 1ms/step - loss: 0.0077 - acc: 0.9971 - val_loss: 0.4554 - val_acc: 0.9192\n",
            "Epoch 71/100\n",
            "7899/7899 [==============================] - 11s 1ms/step - loss: 0.0114 - acc: 0.9965 - val_loss: 0.4073 - val_acc: 0.9213\n",
            "Epoch 72/100\n",
            "7899/7899 [==============================] - 11s 1ms/step - loss: 0.0068 - acc: 0.9978 - val_loss: 0.4714 - val_acc: 0.9175\n",
            "Epoch 73/100\n",
            "7899/7899 [==============================] - 12s 1ms/step - loss: 0.0082 - acc: 0.9977 - val_loss: 0.5041 - val_acc: 0.9192\n",
            "Epoch 74/100\n",
            "7899/7899 [==============================] - 11s 1ms/step - loss: 0.0052 - acc: 0.9980 - val_loss: 0.4354 - val_acc: 0.9237\n",
            "Epoch 75/100\n",
            "7899/7899 [==============================] - 11s 1ms/step - loss: 0.0052 - acc: 0.9984 - val_loss: 0.4048 - val_acc: 0.9225\n",
            "Epoch 76/100\n",
            "7899/7899 [==============================] - 11s 1ms/step - loss: 0.0038 - acc: 0.9984 - val_loss: 0.4625 - val_acc: 0.9192\n",
            "Epoch 77/100\n",
            "7899/7899 [==============================] - 12s 1ms/step - loss: 0.0056 - acc: 0.9986 - val_loss: 0.4879 - val_acc: 0.9179\n",
            "Epoch 78/100\n",
            "7899/7899 [==============================] - 12s 1ms/step - loss: 0.0121 - acc: 0.9959 - val_loss: 0.4275 - val_acc: 0.9242\n",
            "Epoch 79/100\n",
            "7899/7899 [==============================] - 11s 1ms/step - loss: 0.0102 - acc: 0.9966 - val_loss: 0.4789 - val_acc: 0.9204\n",
            "Epoch 80/100\n",
            "7899/7899 [==============================] - 12s 1ms/step - loss: 0.0149 - acc: 0.9965 - val_loss: 0.4911 - val_acc: 0.9183\n",
            "Epoch 81/100\n",
            "7899/7899 [==============================] - 12s 1ms/step - loss: 0.0101 - acc: 0.9962 - val_loss: 0.4798 - val_acc: 0.9217\n",
            "Epoch 82/100\n",
            "7899/7899 [==============================] - 12s 1ms/step - loss: 0.0106 - acc: 0.9972 - val_loss: 0.5124 - val_acc: 0.9146\n",
            "Epoch 83/100\n",
            "7899/7899 [==============================] - 11s 1ms/step - loss: 0.0067 - acc: 0.9976 - val_loss: 0.4406 - val_acc: 0.9246\n",
            "Epoch 84/100\n",
            "7899/7899 [==============================] - 11s 1ms/step - loss: 0.0117 - acc: 0.9965 - val_loss: 0.4506 - val_acc: 0.9192\n",
            "Epoch 85/100\n",
            "7899/7899 [==============================] - 11s 1ms/step - loss: 0.0048 - acc: 0.9986 - val_loss: 0.4898 - val_acc: 0.9196\n",
            "Epoch 86/100\n",
            "7899/7899 [==============================] - 11s 1ms/step - loss: 0.0029 - acc: 0.9990 - val_loss: 0.4733 - val_acc: 0.9213\n",
            "Epoch 87/100\n",
            "7899/7899 [==============================] - 11s 1ms/step - loss: 0.0053 - acc: 0.9985 - val_loss: 0.5079 - val_acc: 0.9208\n",
            "Epoch 88/100\n",
            "7899/7899 [==============================] - 11s 1ms/step - loss: 0.0136 - acc: 0.9965 - val_loss: 0.4599 - val_acc: 0.9175\n",
            "Epoch 89/100\n",
            "7899/7899 [==============================] - 11s 1ms/step - loss: 0.0083 - acc: 0.9971 - val_loss: 0.4236 - val_acc: 0.9242\n",
            "Epoch 90/100\n",
            "7899/7899 [==============================] - 12s 1ms/step - loss: 0.0039 - acc: 0.9986 - val_loss: 0.4375 - val_acc: 0.9250\n",
            "Epoch 91/100\n",
            "7899/7899 [==============================] - 12s 1ms/step - loss: 0.0041 - acc: 0.9992 - val_loss: 0.4729 - val_acc: 0.9213\n",
            "Epoch 92/100\n",
            "7899/7899 [==============================] - 11s 1ms/step - loss: 0.0037 - acc: 0.9989 - val_loss: 0.5230 - val_acc: 0.9171\n",
            "Epoch 93/100\n",
            "7899/7899 [==============================] - 12s 1ms/step - loss: 0.0020 - acc: 0.9991 - val_loss: 0.4976 - val_acc: 0.9200\n",
            "Epoch 94/100\n",
            "7899/7899 [==============================] - 12s 1ms/step - loss: 0.0064 - acc: 0.9977 - val_loss: 0.5291 - val_acc: 0.9196\n",
            "Epoch 95/100\n",
            "7899/7899 [==============================] - 12s 1ms/step - loss: 0.0090 - acc: 0.9976 - val_loss: 0.4733 - val_acc: 0.9225\n",
            "Epoch 96/100\n",
            "7899/7899 [==============================] - 11s 1ms/step - loss: 0.0027 - acc: 0.9987 - val_loss: 0.4824 - val_acc: 0.9183\n",
            "Epoch 97/100\n",
            "7899/7899 [==============================] - 12s 1ms/step - loss: 0.0108 - acc: 0.9973 - val_loss: 0.4281 - val_acc: 0.9246\n",
            "Epoch 98/100\n",
            "7899/7899 [==============================] - 12s 1ms/step - loss: 0.0084 - acc: 0.9972 - val_loss: 0.3735 - val_acc: 0.9175\n",
            "Epoch 99/100\n",
            "7899/7899 [==============================] - 12s 1ms/step - loss: 0.0059 - acc: 0.9987 - val_loss: 0.4772 - val_acc: 0.9217\n",
            "Epoch 100/100\n",
            "7899/7899 [==============================] - 11s 1ms/step - loss: 0.0094 - acc: 0.9970 - val_loss: 0.4509 - val_acc: 0.9175\n",
            "Train loss: 5.306121882636478e-05, Train accuracy: 1.0\n",
            "Test loss: 0.4509454084932804, Test accuracy: 0.9175\n"
          ],
          "name": "stdout"
        },
        {
          "output_type": "display_data",
          "data": {
            "image/png": "[encoded data removed]",
            "text/plain": [
              "<Figure size 864x432 with 2 Axes>"
            ]
          },
          "metadata": {
            "tags": []
          }
        }
      ]
    }
  ]
}