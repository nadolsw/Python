{
  "nbformat": 4,
  "nbformat_minor": 0,
  "metadata": {
    "colab": {
      "name": "UCIHAR - GPU.ipynb",
      "version": "0.3.2",
      "provenance": [],
      "machine_shape": "hm",
      "include_colab_link": true
    },
    "kernelspec": {
      "name": "python3",
      "display_name": "Python 3"
    },
    "accelerator": "GPU"
  },
  "cells": [
    {
      "cell_type": "markdown",
      "metadata": {
        "id": "view-in-github",
        "colab_type": "text"
      },
      "source": [
        "<a href=\"https://colab.research.google.com/github/nadolsw/Python/blob/master/Google_CoLab_UCIHAR_GPU.ipynb\" target=\"_parent\"><img src=\"https://colab.research.google.com/assets/colab-badge.svg\" alt=\"Open In Colab\"/></a>"
      ]
    },
    {
      "cell_type": "code",
      "metadata": {
        "id": "MQf2GjFQ5qeX",
        "colab_type": "code",
        "outputId": "94948432-f845-4d36-f3c4-5a63be209c7c",
        "colab": {
          "resources": {
            "http://localhost:8080/nbextensions/google.colab/files.js": {
              "data": "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",
              "ok": true,
              "headers": [
                [
                  "content-type",
                  "application/javascript"
                ]
              ],
              "status": 200,
              "status_text": ""
            }
          },
          "base_uri": "https://localhost:8080/",
          "height": 74
        }
      },
      "source": [
        "#####################################################\n",
        "###### UPLOAD LOCAL FILE TO WORKING DIRECTORY #######\n",
        "#####################################################\n",
        "\n",
        "#from google.colab import files\n",
        "#uploaded = files.upload()"
      ],
      "execution_count": 0,
      "outputs": [
        {
          "output_type": "display_data",
          "data": {
            "text/html": [
              "\n",
              "     <input type=\"file\" id=\"files-88bda8c8-ae8f-4936-bf7a-1f95d8eca850\" name=\"files[]\" multiple disabled />\n",
              "     <output id=\"result-88bda8c8-ae8f-4936-bf7a-1f95d8eca850\">\n",
              "      Upload widget is only available when the cell has been executed in the\n",
              "      current browser session. Please rerun this cell to enable.\n",
              "      </output>\n",
              "      <script src=\"/nbextensions/google.colab/files.js\"></script> "
            ],
            "text/plain": [
              "<IPython.core.display.HTML object>"
            ]
          },
          "metadata": {
            "tags": []
          }
        },
        {
          "output_type": "stream",
          "text": [
            "Saving data.zip to data.zip\n"
          ],
          "name": "stdout"
        }
      ]
    },
    {
      "cell_type": "code",
      "metadata": {
        "id": "BLvFxuzT9T1n",
        "colab_type": "code",
        "outputId": "bfb4a329-8c71-4ad2-ead4-239b94a148df",
        "colab": {
          "base_uri": "https://localhost:8080/",
          "height": 238
        }
      },
      "source": [
        "# -*- coding: utf-8 -*-\n",
        "\"\"\"\n",
        "Created on Sun Jun 16 12:36:30 2019\n",
        "@author: William Nadolski (winado)\n",
        "Created based on the following tutorial: http://ataspinar.com/2018/04/04/machine-learning-with-signal-processing-techniques/\n",
        "\"\"\"\n",
        "##################################\n",
        "### INSTALL NECESSARY PACKAGES ###\n",
        "##################################\n",
        "\n",
        "#If first time running then execute the following from OS command line\n",
        "#Additional options are necessary for installing from within Jupyter\n",
        "\n",
        "#import os\n",
        "#import sys\n",
        "#!{sys.executable} -m pip install --user siml\n",
        "#!{sys.executable} -m pip install --user xgboost\n",
        "#!{sys.executable} -m pip install --user seaborn\n",
        "#!{sys.executable} -m pip install --user pywavelets\n",
        "#!{sys.executable} -m pip install --user tensorflow-gpu\n",
        "#!{sys.executable} -m pip install --user keras"
      ],
      "execution_count": 0,
      "outputs": [
        {
          "output_type": "stream",
          "text": [
            "Collecting siml\n",
            "  Downloading https://files.pythonhosted.org/packages/09/1a/a49558fcf0b2499b006334b3a1e752d7bfc166d4778848435a60d590fa8b/siml-0.2.1.tar.gz\n",
            "Requirement already satisfied: numpy in /usr/local/lib/python3.6/dist-packages (from siml) (1.16.4)\n",
            "Requirement already satisfied: scikit-learn in /usr/local/lib/python3.6/dist-packages (from siml) (0.21.3)\n",
            "Requirement already satisfied: joblib>=0.11 in /usr/local/lib/python3.6/dist-packages (from scikit-learn->siml) (0.13.2)\n",
            "Requirement already satisfied: scipy>=0.17.0 in /usr/local/lib/python3.6/dist-packages (from scikit-learn->siml) (1.3.0)\n",
            "Building wheels for collected packages: siml\n",
            "  Building wheel for siml (setup.py) ... \u001b[?25l\u001b[?25hdone\n",
            "  Created wheel for siml: filename=siml-0.2.1-cp36-none-any.whl size=19879 sha256=06f93967e15cf10b3c6f5d4ec7c5f41c94e16052784c470b0cf097f1c8706e19\n",
            "  Stored in directory: /root/.cache/pip/wheels/f2/8d/36/68e58ff0a4b13cd5f2aa666139adf7213afb58781849b0044a\n",
            "Successfully built siml\n",
            "Installing collected packages: siml\n",
            "Successfully installed siml-0.2.1\n"
          ],
          "name": "stdout"
        }
      ]
    },
    {
      "cell_type": "code",
      "metadata": {
        "id": "_egnWjWg9DyI",
        "colab_type": "code",
        "outputId": "10a7c608-df42-45f8-8c65-0ad8e46d8804",
        "colab": {
          "base_uri": "https://localhost:8080/",
          "height": 561
        }
      },
      "source": [
        "#################################\n",
        "### IMPORT NECESSARY PACKAGES ###\n",
        "#################################\n",
        "\n",
        "import os\n",
        "import sys\n",
        "import time\n",
        "import pywt\n",
        "import numpy as np\n",
        "import pandas as pd\n",
        "import scipy as scipy\n",
        "import scipy.io as sio\n",
        "import matplotlib.pyplot as plt\n",
        "\n",
        "#from siml import *\n",
        "#from siml.sk_utils import *\n",
        "from sklearn import *\n",
        "from collections import Counter\n",
        "from collections import defaultdict\n",
        "from mpl_toolkits.mplot3d import Axes3D\n",
        "from sklearn import *\n",
        "from sklearn.ensemble import RandomForestClassifier\n",
        "from sklearn.metrics import classification_report\n",
        "from scipy import *\n",
        "from scipy.signal import welch\n",
        "from scipy.fftpack import fft\n",
        "from scipy import signal\n",
        "from scipy.fftpack import fft\n",
        "\n",
        "from xgboost import XGBClassifier\n",
        "from sklearn.decomposition import PCA\n",
        "from sklearn.preprocessing import StandardScaler, LabelEncoder\n",
        "from sklearn.linear_model import LogisticRegression\n",
        "from sklearn.svm import SVC\n",
        "from sklearn.neighbors import KNeighborsClassifier\n",
        "from sklearn.tree import DecisionTreeClassifier\n",
        "from sklearn.neural_network import MLPClassifier\n",
        "from sklearn.neighbors import KNeighborsClassifier\n",
        "from sklearn.ensemble import RandomForestClassifier\n",
        "from sklearn.metrics import classification_report\n",
        "from sklearn.ensemble import GradientBoostingClassifier\n",
        "from sklearn.gaussian_process.kernels import RBF\n",
        "from sklearn.ensemble import RandomForestClassifier\n",
        "from sklearn.naive_bayes import GaussianNB\n",
        "from sklearn.ensemble import AdaBoostClassifier\n",
        "from sklearn.discriminant_analysis import QuadraticDiscriminantAnalysis\n",
        "from sklearn.gaussian_process import GaussianProcessClassifier\n",
        "\n",
        "import tensorflow as tf\n",
        "from collections import Counter\n",
        "from collections import defaultdict\n",
        "\n",
        "#Check to see whether TF is utilizing GPU or CPU\n",
        "sess = tf.Session(config=tf.ConfigProto(log_device_placement=True))\n",
        "from tensorflow.python.client import device_lib\n",
        "print(device_lib.list_local_devices())\n",
        "\n",
        "import keras\n",
        "from keras.layers import Activation, Dense, Flatten, Conv2D, MaxPooling2D, Dropout\n",
        "from keras.models import Sequential\n",
        "from keras.callbacks import History \n",
        "from keras.layers import LeakyReLU\n",
        "history = History()"
      ],
      "execution_count": 0,
      "outputs": [
        {
          "output_type": "stream",
          "text": [
            "[name: \"/device:CPU:0\"\n",
            "device_type: \"CPU\"\n",
            "memory_limit: 268435456\n",
            "locality {\n",
            "}\n",
            "incarnation: 6873872299012265423\n",
            ", name: \"/device:XLA_CPU:0\"\n",
            "device_type: \"XLA_CPU\"\n",
            "memory_limit: 17179869184\n",
            "locality {\n",
            "}\n",
            "incarnation: 2848116190829829927\n",
            "physical_device_desc: \"device: XLA_CPU device\"\n",
            ", name: \"/device:XLA_GPU:0\"\n",
            "device_type: \"XLA_GPU\"\n",
            "memory_limit: 17179869184\n",
            "locality {\n",
            "}\n",
            "incarnation: 1592787733224157409\n",
            "physical_device_desc: \"device: XLA_GPU device\"\n",
            ", name: \"/device:GPU:0\"\n",
            "device_type: \"GPU\"\n",
            "memory_limit: 14892338381\n",
            "locality {\n",
            "  bus_id: 1\n",
            "  links {\n",
            "  }\n",
            "}\n",
            "incarnation: 3665123835179152131\n",
            "physical_device_desc: \"device: 0, name: Tesla T4, pci bus id: 0000:00:04.0, compute capability: 7.5\"\n",
            "]\n"
          ],
          "name": "stdout"
        },
        {
          "output_type": "stream",
          "text": [
            "Using TensorFlow backend.\n"
          ],
          "name": "stderr"
        }
      ]
    },
    {
      "cell_type": "code",
      "metadata": {
        "id": "_8TekFn2_rMq",
        "colab_type": "code",
        "outputId": "320f2f2a-3d5d-4f08-864a-1938999de8ce",
        "colab": {
          "base_uri": "https://localhost:8080/",
          "height": 122
        }
      },
      "source": [
        "#################################\n",
        "#### CONNECT TO GOOGLE DRIVE ####\n",
        "#################################\n",
        "\n",
        "from google.colab import drive\n",
        "drive.mount('/content/gdrive')"
      ],
      "execution_count": 0,
      "outputs": [
        {
          "output_type": "stream",
          "text": [
            "Go to this URL in a browser: https://accounts.google.com/o/oauth2/auth?client_id=947318989803-6bn6qk8qdgf4n4g3pfee6491hc0brc4i.apps.googleusercontent.com&redirect_uri=urn%3Aietf%3Awg%3Aoauth%3A2.0%3Aoob&scope=email%20https%3A%2F%2Fwww.googleapis.com%2Fauth%2Fdocs.test%20https%3A%2F%2Fwww.googleapis.com%2Fauth%2Fdrive%20https%3A%2F%2Fwww.googleapis.com%2Fauth%2Fdrive.photos.readonly%20https%3A%2F%2Fwww.googleapis.com%2Fauth%2Fpeopleapi.readonly&response_type=code\n",
            "\n",
            "Enter your authorization code:\n",
            "··········\n",
            "Mounted at /content/gdrive\n"
          ],
          "name": "stdout"
        }
      ]
    },
    {
      "cell_type": "code",
      "metadata": {
        "id": "Wnu8fF3A-g0l",
        "colab_type": "code",
        "outputId": "1ae6d1d8-7b58-4bf5-d47a-3871427da4a0",
        "colab": {
          "base_uri": "https://localhost:8080/",
          "height": 119
        }
      },
      "source": [
        "##########################\n",
        "#### LIST DIRECTORIES ####\n",
        "##########################\n",
        "\n",
        "import glob\n",
        "path = '/content/gdrive/My Drive/data/'\n",
        "folders = [f for f in glob.glob(path + \"**/\", recursive=True)]\n",
        "for f in folders:\n",
        "    print(f)"
      ],
      "execution_count": 0,
      "outputs": [
        {
          "output_type": "stream",
          "text": [
            "/content/gdrive/My Drive/data/\n",
            "/content/gdrive/My Drive/data/UCI HAR Dataset/\n",
            "/content/gdrive/My Drive/data/UCI HAR Dataset/test/\n",
            "/content/gdrive/My Drive/data/UCI HAR Dataset/test/Inertial Signals/\n",
            "/content/gdrive/My Drive/data/UCI HAR Dataset/train/\n",
            "/content/gdrive/My Drive/data/UCI HAR Dataset/train/Inertial Signals/\n"
          ],
          "name": "stdout"
        }
      ]
    },
    {
      "cell_type": "code",
      "metadata": {
        "id": "U3VLzFrlEESY",
        "colab_type": "code",
        "colab": {}
      },
      "source": [
        "############################################\n",
        "### DEFINE DATA IMPORT UTILITY FUNCTIONS ###\n",
        "############################################\n",
        "\n",
        "def read_signals_ucihar(filename):\n",
        "    with open(filename, 'r') as fp:\n",
        "        print(\"Reading in file: {}\".format(fp))\n",
        "        data = fp.read().splitlines()\n",
        "        data = map(lambda x: x.rstrip().lstrip().split(), data)\n",
        "        data = [list(map(float, line)) for line in data]\n",
        "    return data\n",
        "\n",
        "def read_labels_ucihar(filename):        \n",
        "    with open(filename, 'r') as fp:\n",
        "        activities = fp.read().splitlines()\n",
        "        activities = list(map(int, activities))\n",
        "    return activities\n",
        " \n",
        "def load_ucihar_data(folder):\n",
        "    train_folder = folder + 'train/Inertial Signals/'\n",
        "    test_folder = folder + 'test/Inertial Signals/'\n",
        "    labelfile_train = folder + 'train/y_train.txt'\n",
        "    labelfile_test = folder + 'test/y_test.txt'\n",
        "    train_signals, test_signals = [], []\n",
        "    for input_file in sort(os.listdir(train_folder)):\n",
        "        signal = read_signals_ucihar(train_folder + input_file)\n",
        "        train_signals.append(signal)\n",
        "    train_signals = np.transpose(np.array(train_signals), (1, 2, 0))\n",
        "    for input_file in sort(os.listdir(test_folder)):\n",
        "        signal = read_signals_ucihar(test_folder + input_file)\n",
        "        test_signals.append(signal)\n",
        "    test_signals = np.transpose(np.array(test_signals), (1, 2, 0))\n",
        "    train_labels = read_labels_ucihar(labelfile_train)\n",
        "    test_labels = read_labels_ucihar(labelfile_test)\n",
        "    return train_signals, train_labels, test_signals, test_labels\n",
        "\n",
        "def randomize(dataset, labels):\n",
        "    permutation = np.random.permutation(labels.shape[0])\n",
        "    shuffled_dataset = dataset[permutation, :, :]\n",
        "    shuffled_labels = labels[permutation]\n",
        "    return shuffled_dataset, shuffled_labels"
      ],
      "execution_count": 0,
      "outputs": []
    },
    {
      "cell_type": "code",
      "metadata": {
        "id": "vJkBMCRxEf_v",
        "colab_type": "code",
        "outputId": "3321aec5-61b5-4a6a-bee7-6a278f24b33b",
        "colab": {
          "base_uri": "https://localhost:8080/",
          "height": 476
        }
      },
      "source": [
        "#########################################\n",
        "########## IMPORT HAR DATASETS ##########\n",
        "#########################################\n",
        "\n",
        "folder_ucihar = '/content/gdrive/My Drive/data/UCI HAR Dataset/' \n",
        "train_signals, train_labels, test_signals, test_labels = load_ucihar_data(folder_ucihar)\n",
        "\n",
        "INPUT_SIGNAL_FILES = ['body_acc_x_train.txt', 'body_acc_y_train.txt', 'body_acc_z_train.txt', \n",
        "                     'body_gyro_x_train.txt', 'body_gyro_y_train.txt', 'body_gyro_z_train.txt',\n",
        "                     'total_acc_x_train.txt', 'total_acc_y_train.txt', 'total_acc_z_train.txt']\n",
        "\n",
        "[no_signals_train, no_steps_train, no_components_train] = np.shape(train_signals)\n",
        "[no_signals_test, no_steps_test, no_components_test] = np.shape(test_signals)\n",
        "no_labels = len(np.unique(train_labels[:])) #number of labels (activities)\n",
        "\n",
        "print(\"Training dataset contains {} signals, each one of length {} and {} different components \".format(no_signals_train, no_steps_train, no_components_train))\n",
        "print(\"Training labels have the following distribution:\\n {}\".format(Counter(train_labels[:])))\n",
        "print(\"Test dataset contains {} signals, each one of length {} and {} different components \".format(no_signals_test, no_steps_test, no_components_test))\n",
        "#print(\"Test labels have the following distribution:\\n {}\".format(Counter(test_labels[:])))\n",
        "\n",
        "print(\"Activity labels originally have the following unique values:\\n {}\".format(unique(test_labels)))\n",
        "#Need to ensure activity labels start at zero instead of one for later use in keras\n",
        "train_labels[:] = [x - 1 for x in train_labels]\n",
        "test_labels[:] = [x - 1 for x in test_labels]\n",
        "print(\"Activity labels now have the following unique values:\\n {}\".format(unique(test_labels)))\n",
        "\n",
        "#Define activity label key\n",
        "activities_description = {\n",
        "    0: 'walking',\n",
        "    1: 'walking upstairs',\n",
        "    2: 'walking downstairs',\n",
        "    3: 'sitting',\n",
        "    4: 'standing',\n",
        "    5: 'laying'\n",
        "}\n",
        "\n",
        "#Shuffle data while retaining mapping with labels\n",
        "train_signals, train_labels = randomize(train_signals, np.array(train_labels))\n",
        "test_signals, test_labels = randomize(test_signals, np.array(test_labels))\n",
        "print(\"Shuffling data!\")"
      ],
      "execution_count": 0,
      "outputs": [
        {
          "output_type": "stream",
          "text": [
            "Reading in file: <_io.TextIOWrapper name='/content/gdrive/My Drive/data/UCI HAR Dataset/train/Inertial Signals/body_acc_x_train.txt' mode='r' encoding='UTF-8'>\n",
            "Reading in file: <_io.TextIOWrapper name='/content/gdrive/My Drive/data/UCI HAR Dataset/train/Inertial Signals/body_acc_y_train.txt' mode='r' encoding='UTF-8'>\n",
            "Reading in file: <_io.TextIOWrapper name='/content/gdrive/My Drive/data/UCI HAR Dataset/train/Inertial Signals/body_acc_z_train.txt' mode='r' encoding='UTF-8'>\n",
            "Reading in file: <_io.TextIOWrapper name='/content/gdrive/My Drive/data/UCI HAR Dataset/train/Inertial Signals/body_gyro_x_train.txt' mode='r' encoding='UTF-8'>\n",
            "Reading in file: <_io.TextIOWrapper name='/content/gdrive/My Drive/data/UCI HAR Dataset/train/Inertial Signals/body_gyro_y_train.txt' mode='r' encoding='UTF-8'>\n",
            "Reading in file: <_io.TextIOWrapper name='/content/gdrive/My Drive/data/UCI HAR Dataset/train/Inertial Signals/body_gyro_z_train.txt' mode='r' encoding='UTF-8'>\n",
            "Reading in file: <_io.TextIOWrapper name='/content/gdrive/My Drive/data/UCI HAR Dataset/train/Inertial Signals/total_acc_x_train.txt' mode='r' encoding='UTF-8'>\n",
            "Reading in file: <_io.TextIOWrapper name='/content/gdrive/My Drive/data/UCI HAR Dataset/train/Inertial Signals/total_acc_y_train.txt' mode='r' encoding='UTF-8'>\n",
            "Reading in file: <_io.TextIOWrapper name='/content/gdrive/My Drive/data/UCI HAR Dataset/train/Inertial Signals/total_acc_z_train.txt' mode='r' encoding='UTF-8'>\n",
            "Reading in file: <_io.TextIOWrapper name='/content/gdrive/My Drive/data/UCI HAR Dataset/test/Inertial Signals/body_acc_x_test.txt' mode='r' encoding='UTF-8'>\n",
            "Reading in file: <_io.TextIOWrapper name='/content/gdrive/My Drive/data/UCI HAR Dataset/test/Inertial Signals/body_acc_y_test.txt' mode='r' encoding='UTF-8'>\n",
            "Reading in file: <_io.TextIOWrapper name='/content/gdrive/My Drive/data/UCI HAR Dataset/test/Inertial Signals/body_acc_z_test.txt' mode='r' encoding='UTF-8'>\n",
            "Reading in file: <_io.TextIOWrapper name='/content/gdrive/My Drive/data/UCI HAR Dataset/test/Inertial Signals/body_gyro_x_test.txt' mode='r' encoding='UTF-8'>\n",
            "Reading in file: <_io.TextIOWrapper name='/content/gdrive/My Drive/data/UCI HAR Dataset/test/Inertial Signals/body_gyro_y_test.txt' mode='r' encoding='UTF-8'>\n",
            "Reading in file: <_io.TextIOWrapper name='/content/gdrive/My Drive/data/UCI HAR Dataset/test/Inertial Signals/body_gyro_z_test.txt' mode='r' encoding='UTF-8'>\n",
            "Reading in file: <_io.TextIOWrapper name='/content/gdrive/My Drive/data/UCI HAR Dataset/test/Inertial Signals/total_acc_x_test.txt' mode='r' encoding='UTF-8'>\n",
            "Reading in file: <_io.TextIOWrapper name='/content/gdrive/My Drive/data/UCI HAR Dataset/test/Inertial Signals/total_acc_y_test.txt' mode='r' encoding='UTF-8'>\n",
            "Reading in file: <_io.TextIOWrapper name='/content/gdrive/My Drive/data/UCI HAR Dataset/test/Inertial Signals/total_acc_z_test.txt' mode='r' encoding='UTF-8'>\n",
            "Training dataset contains 7352 signals, each one of length 128 and 9 different components \n",
            "Training labels have the following distribution:\n",
            " Counter({6: 1407, 5: 1374, 4: 1286, 1: 1226, 2: 1073, 3: 986})\n",
            "Test dataset contains 2947 signals, each one of length 128 and 9 different components \n",
            "Activity labels originally have the following unique values:\n",
            " [1 2 3 4 5 6]\n",
            "Activity labels now have the following unique values:\n",
            " [0 1 2 3 4 5]\n",
            "Shuffling data!\n"
          ],
          "name": "stdout"
        }
      ]
    },
    {
      "cell_type": "code",
      "metadata": {
        "id": "Te34_0cLE5K4",
        "colab_type": "code",
        "outputId": "947b01f0-9209-4d69-e02b-c5dda7c75459",
        "colab": {
          "base_uri": "https://localhost:8080/",
          "height": 602
        }
      },
      "source": [
        "##############################################################################################\n",
        "### EXTRACT AND PLOT SPECTROGRAMS FOR CHOSEN RECORD (EACH RECORDING CONSISTS OF 9 SENSORS) ###\n",
        "##############################################################################################\n",
        "\n",
        "t0 = 0\n",
        "N = 128\n",
        "f_s = 50\n",
        "t_n = 2.56\n",
        "T = t_n / N\n",
        "dt = 1 / f_s\n",
        "time = np.arange(0, N) * dt + t0\n",
        "\n",
        "def plot_spectrogram(ax, time, signal, waveletname = 'morl', cmap = plt.cm.seismic):\n",
        "    dt = time[1] - time[0]\n",
        "    scales = np.arange(1, 128)\n",
        "    [coefficients, frequencies] = pywt.cwt(signal, scales, waveletname, dt)\n",
        "    power = (abs(coefficients)) ** 2\n",
        "    period = 1. / frequencies\n",
        "    levels = [0.0625, 0.125, 0.25, 0.5, 1, 2, 4, 8]\n",
        "    contourlevels = np.log2(levels)    \n",
        "    ax.contourf(time, np.log2(period), np.log2(power), contourlevels, extend='both',cmap=cmap)\n",
        "    ax.invert_yaxis()\n",
        "    ylim = ax.get_ylim()\n",
        "    ax.set_ylim(ylim[0], -1)\n",
        "    plt.axis('off')\n",
        "    \n",
        "record_num = 100\n",
        "signals = train_signals[record_num, : , : ]\n",
        "label = train_labels[record_num]\n",
        "activity_name = activities_description[label]\n",
        "\n",
        "axtitles = ['Body Accel X', 'Body Accel Y', 'Body Accel Z',\n",
        "            'Body Gyro X', 'Body Gyro Y', 'Body Gyro Z',\n",
        "            'Total Accel X', 'Total Accel Y', 'Total Accel Z']\n",
        "\n",
        "fig = plt.figure(figsize = (8, 8))\n",
        "suptitle = \"All Spectrograms for Chosen Record [Activity: {}]\"\n",
        "fig.suptitle(suptitle.format(activity_name), fontsize=16)\n",
        "for sig_comp in range(0,9):\n",
        "    signal = signals[ : , sig_comp ]\n",
        "    ax = fig.add_subplot(3, 3, sig_comp+1 )\n",
        "    axtitle = axtitles[sig_comp]\n",
        "    ax.set_title(axtitle, fontsize=12)\n",
        "    #ax.set_xlabel('Seconds', fontsize=12)\n",
        "    plot = plot_spectrogram(ax, time, signal)\n",
        "fig.tight_layout()\n",
        "plt.subplots_adjust(top=0.9, hspace=0.25)\n",
        "fig.show()\n",
        "print(\"Training Record Chosen: {}\".format(record_num))"
      ],
      "execution_count": 0,
      "outputs": [
        {
          "output_type": "stream",
          "text": [
            "Training Record Chosen: 100\n"
          ],
          "name": "stdout"
        },
        {
          "output_type": "display_data",
          "data": {
            "image/png": "[encoded data removed]",
            "text/plain": [
              "<Figure size 576x576 with 9 Axes>"
            ]
          },
          "metadata": {
            "tags": []
          }
        }
      ]
    },
    {
      "cell_type": "code",
      "metadata": {
        "id": "U8f2i9TXE-_W",
        "colab_type": "code",
        "outputId": "79433e7b-84e9-4f50-da23-28f4c8d955a2",
        "colab": {
          "base_uri": "https://localhost:8080/",
          "height": 493
        }
      },
      "source": [
        "###############################################\n",
        "### EXTRACT 9D SPECTROGRAMS FOR ALL RECORDS ###\n",
        "###############################################\n",
        "\n",
        "scales = range(1,128)\n",
        "waveletname = 'morl'\n",
        "\n",
        "#Take subset of data when training with CPU\n",
        "\n",
        "#train_size = 250\n",
        "train_size = len(train_signals)\n",
        "print(train_size)\n",
        "Xtrain_CWT = np.ndarray(shape=(train_size, 127, 127, 9))\n",
        "\n",
        "for ii in range(0,train_size):\n",
        "    if ii % 500 == 0:\n",
        "        print(ii)\n",
        "    for jj in range(0,9):\n",
        "        signal = train_signals[ii, :, jj]\n",
        "        coeff, freq = pywt.cwt(signal, scales, waveletname, 1)\n",
        "        coeff_ = coeff[:,:127]\n",
        "        Xtrain_CWT[ii, :, :, jj] = coeff_\n",
        "\n",
        "#test_size = 100\n",
        "test_size = len(test_signals)\n",
        "Xtest_CWT = np.ndarray(shape=(test_size, 127, 127, 9))\n",
        "for ii in range(0,test_size):\n",
        "    if ii % 250 == 0:\n",
        "        print(ii)\n",
        "    for jj in range(0,9):\n",
        "        signal = test_signals[ii, :, jj]\n",
        "        coeff, freq = pywt.cwt(signal, scales, waveletname, 1)\n",
        "        coeff_ = coeff[:,:127]\n",
        "        Xtest_CWT[ii, :, :, jj] = coeff_"
      ],
      "execution_count": 0,
      "outputs": [
        {
          "output_type": "stream",
          "text": [
            "7352\n",
            "0\n",
            "500\n",
            "1000\n",
            "1500\n",
            "2000\n",
            "2500\n",
            "3000\n",
            "3500\n",
            "4000\n",
            "4500\n",
            "5000\n",
            "5500\n",
            "6000\n",
            "6500\n",
            "7000\n",
            "0\n",
            "250\n",
            "500\n",
            "750\n",
            "1000\n",
            "1250\n",
            "1500\n",
            "1750\n",
            "2000\n",
            "2250\n",
            "2500\n",
            "2750\n"
          ],
          "name": "stdout"
        }
      ]
    },
    {
      "cell_type": "code",
      "metadata": {
        "id": "1_hhd9xIFl6N",
        "colab_type": "code",
        "outputId": "eaf12a18-8817-4d95-f5fd-d3f1c24abc01",
        "colab": {
          "base_uri": "https://localhost:8080/",
          "height": 68
        }
      },
      "source": [
        "#####################################\n",
        "### PREP DATA FOR CNN USING KERAS ###\n",
        "#####################################\n",
        "\n",
        "y_train = list(train_labels[:train_size])\n",
        "y_test = list(test_labels[:test_size])\n",
        "\n",
        "#Specify spectrogram image dimensions\n",
        "img_x = 127\n",
        "img_y = 127\n",
        "img_z = 9\n",
        "num_classes = 6\n",
        "\n",
        "#reshape the data into a 4D tensor - (sample_number, x_img_size, y_img_size, num_channels)\n",
        "#because the spectrograms are essentially grayscale, we only have a single channel - RGB colour images would have 3\n",
        "input_shape = (img_x, img_y, img_z)\n",
        "\n",
        "#convert the data to the right type\n",
        "#x_train = x_train.reshape(x_train.shape[0], img_x, img_y, img_z)\n",
        "#x_test = x_test.reshape(x_test.shape[0], img_x, img_y, img_z)\n",
        "Xtrain_CWT = Xtrain_CWT.astype('float32')\n",
        "Xtest_CWT = Xtest_CWT.astype('float32')\n",
        "\n",
        "print('Xtrain_CWT shape:', Xtrain_CWT.shape)\n",
        "print(Xtrain_CWT.shape[0], 'train samples')\n",
        "print(Xtest_CWT.shape[0], 'test samples')\n",
        "\n",
        "#convert class vectors to binary class matrices - this is for use in categorical_crossentropy loss below\n",
        "Ytrain_CWT = keras.utils.to_categorical(y_train, num_classes)\n",
        "Ytest_CWT = keras.utils.to_categorical(y_test, num_classes)"
      ],
      "execution_count": 0,
      "outputs": [
        {
          "output_type": "stream",
          "text": [
            "Xtrain_CWT shape: (7352, 127, 127, 9)\n",
            "7352 train samples\n",
            "2947 test samples\n"
          ],
          "name": "stdout"
        }
      ]
    },
    {
      "cell_type": "code",
      "metadata": {
        "id": "vOQncHApFoow",
        "colab_type": "code",
        "colab": {}
      },
      "source": [
        "####################################################################\n",
        "### BUILD CNN MODEL USING ONLY CWT FEATURES (SPECTROGRAM IMAGES) ###\n",
        "####################################################################\n",
        "\n",
        "#Specify hyperparameters (may need to tune to optimize performance)\n",
        "def train_CNN(batch_size=64, epochs=100, lr=0.0001):\n",
        "    model = Sequential()\n",
        "    model.add(Conv2D(32, kernel_size=(5, 5), strides=(1, 1), activation='relu', input_shape=input_shape)) \n",
        "    model.add(MaxPooling2D(pool_size=(2, 2), strides=(2, 2)))\n",
        "    model.add(Dropout(0.025))\n",
        "    model.add(Conv2D(64, (5, 5), activation='relu'))\n",
        "    model.add(MaxPooling2D(pool_size=(2, 2)))\n",
        "    model.add(Dropout(0.025))\n",
        "    model.add(Flatten())\n",
        "    model.add(Dense(1000, activation='relu'))\n",
        "    model.add(Dropout(0.50))\n",
        "    model.add(Dense(num_classes, activation='softmax'))\n",
        "\n",
        "    model.compile(loss=keras.losses.categorical_crossentropy, \n",
        "              optimizer=keras.optimizers.Adam(lr=lr, decay=0.0, amsgrad=False),\n",
        "              metrics=['accuracy'])\n",
        "\n",
        "    model.fit(Xtrain_CWT, Ytrain_CWT, batch_size=batch_size, \n",
        "              epochs=epochs, verbose=1, \n",
        "              validation_data=(Xtest_CWT, Ytest_CWT), \n",
        "              callbacks=[history])\n",
        "\n",
        "    train_score = model.evaluate(Xtrain_CWT, Ytrain_CWT, verbose=0)\n",
        "    print('Train loss: {}, Train accuracy: {}'.format(train_score[0], train_score[1]))\n",
        "    test_score = model.evaluate(Xtest_CWT, Ytest_CWT, verbose=0)\n",
        "    print('Test loss: {}, Test accuracy: {}'.format(test_score[0], test_score[1]))\n",
        "\n",
        "#Plot model performance over all epochs\n",
        "def plot_epochs(epochs):\n",
        "    fig, axarr = plt.subplots(figsize=(12,6), ncols=2)\n",
        "    axarr[0].plot(range(1, epochs+1), history.history['acc'], label='train score')\n",
        "    axarr[0].plot(range(1, epochs+1), history.history['val_acc'], label='test score')\n",
        "    axarr[0].set_xlabel('Number of Epochs', fontsize=18)\n",
        "    axarr[0].set_ylabel('Accuracy', fontsize=18)\n",
        "    axarr[0].set_ylim([0,1])\n",
        "    axarr[1].plot(range(1, epochs+1), history.history['acc'], label='train score')\n",
        "    axarr[1].plot(range(1, epochs+1), history.history['val_acc'], label='test score')\n",
        "    axarr[1].set_xlabel('Number of Epochs', fontsize=18)\n",
        "    axarr[1].set_ylabel('Accuracy', fontsize=18)\n",
        "    axarr[1].set_ylim([0.75,1])\n",
        "    plt.legend()\n",
        "    plt.show()"
      ],
      "execution_count": 0,
      "outputs": []
    },
    {
      "cell_type": "code",
      "metadata": {
        "id": "fNb3UxXLFta6",
        "colab_type": "code",
        "outputId": "df4639b7-591a-4065-df2e-b83a19481edb",
        "colab": {
          "base_uri": "https://localhost:8080/",
          "height": 1000
        }
      },
      "source": [
        "######################\n",
        "###TRAIN CNN MODEL ###\n",
        "######################\n",
        "\n",
        "train_CNN(batch_size=64, epochs=100, lr=0.001)\n",
        "plot_epochs(epochs=100)"
      ],
      "execution_count": 0,
      "outputs": [
        {
          "output_type": "stream",
          "text": [
            "WARNING: Logging before flag parsing goes to stderr.\n",
            "W0803 17:37:51.424744 140679515445120 deprecation_wrapper.py:119] From /usr/local/lib/python3.6/dist-packages/keras/backend/tensorflow_backend.py:74: The name tf.get_default_graph is deprecated. Please use tf.compat.v1.get_default_graph instead.\n",
            "\n",
            "W0803 17:37:51.428132 140679515445120 deprecation_wrapper.py:119] From /usr/local/lib/python3.6/dist-packages/keras/backend/tensorflow_backend.py:517: The name tf.placeholder is deprecated. Please use tf.compat.v1.placeholder instead.\n",
            "\n",
            "W0803 17:37:51.442710 140679515445120 deprecation_wrapper.py:119] From /usr/local/lib/python3.6/dist-packages/keras/backend/tensorflow_backend.py:4138: The name tf.random_uniform is deprecated. Please use tf.random.uniform instead.\n",
            "\n",
            "W0803 17:37:51.473352 140679515445120 deprecation_wrapper.py:119] From /usr/local/lib/python3.6/dist-packages/keras/backend/tensorflow_backend.py:3976: The name tf.nn.max_pool is deprecated. Please use tf.nn.max_pool2d instead.\n",
            "\n",
            "W0803 17:37:51.475896 140679515445120 deprecation_wrapper.py:119] From /usr/local/lib/python3.6/dist-packages/keras/backend/tensorflow_backend.py:133: The name tf.placeholder_with_default is deprecated. Please use tf.compat.v1.placeholder_with_default instead.\n",
            "\n",
            "W0803 17:37:51.483465 140679515445120 deprecation.py:506] From /usr/local/lib/python3.6/dist-packages/keras/backend/tensorflow_backend.py:3445: calling dropout (from tensorflow.python.ops.nn_ops) with keep_prob is deprecated and will be removed in a future version.\n",
            "Instructions for updating:\n",
            "Please use `rate` instead of `keep_prob`. Rate should be set to `rate = 1 - keep_prob`.\n",
            "W0803 17:37:51.587705 140679515445120 deprecation_wrapper.py:119] From /usr/local/lib/python3.6/dist-packages/keras/optimizers.py:790: The name tf.train.Optimizer is deprecated. Please use tf.compat.v1.train.Optimizer instead.\n",
            "\n",
            "W0803 17:37:51.595137 140679515445120 deprecation_wrapper.py:119] From /usr/local/lib/python3.6/dist-packages/keras/backend/tensorflow_backend.py:3295: The name tf.log is deprecated. Please use tf.math.log instead.\n",
            "\n",
            "W0803 17:37:51.707828 140679515445120 deprecation.py:323] From /usr/local/lib/python3.6/dist-packages/tensorflow/python/ops/math_grad.py:1250: add_dispatch_support.<locals>.wrapper (from tensorflow.python.ops.array_ops) is deprecated and will be removed in a future version.\n",
            "Instructions for updating:\n",
            "Use tf.where in 2.0, which has the same broadcast rule as np.where\n"
          ],
          "name": "stderr"
        },
        {
          "output_type": "stream",
          "text": [
            "Train on 7352 samples, validate on 2947 samples\n",
            "Epoch 1/100\n",
            "7352/7352 [==============================] - 21s 3ms/step - loss: 0.5459 - acc: 0.8689 - val_loss: 0.2991 - val_acc: 0.9057\n",
            "Epoch 2/100\n",
            "7352/7352 [==============================] - 14s 2ms/step - loss: 0.1383 - acc: 0.9468 - val_loss: 0.3391 - val_acc: 0.9006\n",
            "Epoch 3/100\n",
            "7352/7352 [==============================] - 14s 2ms/step - loss: 0.1334 - acc: 0.9502 - val_loss: 0.4187 - val_acc: 0.8979\n",
            "Epoch 4/100\n",
            "7352/7352 [==============================] - 14s 2ms/step - loss: 0.1272 - acc: 0.9555 - val_loss: 0.8123 - val_acc: 0.8772\n",
            "Epoch 5/100\n",
            "7352/7352 [==============================] - 14s 2ms/step - loss: 0.1086 - acc: 0.9600 - val_loss: 0.4889 - val_acc: 0.9114\n",
            "Epoch 6/100\n",
            "7352/7352 [==============================] - 14s 2ms/step - loss: 0.0960 - acc: 0.9642 - val_loss: 0.3812 - val_acc: 0.9226\n",
            "Epoch 7/100\n",
            "7352/7352 [==============================] - 14s 2ms/step - loss: 0.0905 - acc: 0.9689 - val_loss: 0.5279 - val_acc: 0.9253\n",
            "Epoch 8/100\n",
            "7352/7352 [==============================] - 14s 2ms/step - loss: 0.0599 - acc: 0.9762 - val_loss: 0.4140 - val_acc: 0.9277\n",
            "Epoch 9/100\n",
            "7352/7352 [==============================] - 14s 2ms/step - loss: 0.0482 - acc: 0.9852 - val_loss: 0.3573 - val_acc: 0.9362\n",
            "Epoch 10/100\n",
            "7352/7352 [==============================] - 14s 2ms/step - loss: 0.0514 - acc: 0.9815 - val_loss: 0.4409 - val_acc: 0.9342\n",
            "Epoch 11/100\n",
            "7352/7352 [==============================] - 14s 2ms/step - loss: 0.0488 - acc: 0.9830 - val_loss: 0.4999 - val_acc: 0.9257\n",
            "Epoch 12/100\n",
            "7352/7352 [==============================] - 14s 2ms/step - loss: 0.0451 - acc: 0.9852 - val_loss: 0.3272 - val_acc: 0.9501\n",
            "Epoch 13/100\n",
            "7352/7352 [==============================] - 13s 2ms/step - loss: 0.0297 - acc: 0.9883 - val_loss: 0.5089 - val_acc: 0.9362\n",
            "Epoch 14/100\n",
            "7352/7352 [==============================] - 14s 2ms/step - loss: 0.0842 - acc: 0.9774 - val_loss: 0.5829 - val_acc: 0.9365\n",
            "Epoch 15/100\n",
            "7352/7352 [==============================] - 14s 2ms/step - loss: 0.0635 - acc: 0.9815 - val_loss: 0.4061 - val_acc: 0.9386\n",
            "Epoch 16/100\n",
            "7352/7352 [==============================] - 14s 2ms/step - loss: 0.0523 - acc: 0.9857 - val_loss: 0.3193 - val_acc: 0.9457\n",
            "Epoch 17/100\n",
            "7352/7352 [==============================] - 13s 2ms/step - loss: 0.0341 - acc: 0.9888 - val_loss: 0.3723 - val_acc: 0.9423\n",
            "Epoch 18/100\n",
            "7352/7352 [==============================] - 14s 2ms/step - loss: 0.0223 - acc: 0.9920 - val_loss: 0.3934 - val_acc: 0.9457\n",
            "Epoch 19/100\n",
            "7352/7352 [==============================] - 14s 2ms/step - loss: 0.0153 - acc: 0.9950 - val_loss: 0.4344 - val_acc: 0.9488\n",
            "Epoch 20/100\n",
            "7352/7352 [==============================] - 14s 2ms/step - loss: 0.0131 - acc: 0.9952 - val_loss: 0.4261 - val_acc: 0.9518\n",
            "Epoch 21/100\n",
            "7352/7352 [==============================] - 13s 2ms/step - loss: 0.0157 - acc: 0.9939 - val_loss: 0.4866 - val_acc: 0.9498\n",
            "Epoch 22/100\n",
            "7352/7352 [==============================] - 14s 2ms/step - loss: 0.0169 - acc: 0.9942 - val_loss: 0.4185 - val_acc: 0.9460\n",
            "Epoch 23/100\n",
            "7352/7352 [==============================] - 14s 2ms/step - loss: 0.1070 - acc: 0.9841 - val_loss: 0.6520 - val_acc: 0.9342\n",
            "Epoch 24/100\n",
            "7352/7352 [==============================] - 14s 2ms/step - loss: 0.5361 - acc: 0.9449 - val_loss: 1.4302 - val_acc: 0.8836\n",
            "Epoch 25/100\n",
            "7352/7352 [==============================] - 14s 2ms/step - loss: 0.2527 - acc: 0.9661 - val_loss: 0.3674 - val_acc: 0.9457\n",
            "Epoch 26/100\n",
            "7352/7352 [==============================] - 14s 2ms/step - loss: 0.1880 - acc: 0.9765 - val_loss: 0.4703 - val_acc: 0.9511\n",
            "Epoch 27/100\n",
            "7352/7352 [==============================] - 14s 2ms/step - loss: 0.3280 - acc: 0.9667 - val_loss: 1.1326 - val_acc: 0.9114\n",
            "Epoch 28/100\n",
            "7352/7352 [==============================] - 13s 2ms/step - loss: 0.1955 - acc: 0.9737 - val_loss: 0.7648 - val_acc: 0.9342\n",
            "Epoch 29/100\n",
            "7352/7352 [==============================] - 14s 2ms/step - loss: 0.2050 - acc: 0.9770 - val_loss: 0.9929 - val_acc: 0.9179\n",
            "Epoch 30/100\n",
            "7352/7352 [==============================] - 14s 2ms/step - loss: 0.2774 - acc: 0.9695 - val_loss: 0.6657 - val_acc: 0.9359\n",
            "Epoch 31/100\n",
            "7352/7352 [==============================] - 13s 2ms/step - loss: 0.0906 - acc: 0.9838 - val_loss: 0.6773 - val_acc: 0.9359\n",
            "Epoch 32/100\n",
            "7352/7352 [==============================] - 14s 2ms/step - loss: 0.1452 - acc: 0.9814 - val_loss: 0.8182 - val_acc: 0.9284\n",
            "Epoch 33/100\n",
            "7352/7352 [==============================] - 14s 2ms/step - loss: 0.0965 - acc: 0.9853 - val_loss: 0.7374 - val_acc: 0.9365\n",
            "Epoch 34/100\n",
            "7352/7352 [==============================] - 14s 2ms/step - loss: 0.2001 - acc: 0.9810 - val_loss: 0.6176 - val_acc: 0.9410\n",
            "Epoch 35/100\n",
            "7352/7352 [==============================] - 14s 2ms/step - loss: 0.1738 - acc: 0.9816 - val_loss: 0.7140 - val_acc: 0.9396\n",
            "Epoch 36/100\n",
            "7352/7352 [==============================] - 14s 2ms/step - loss: 0.1541 - acc: 0.9839 - val_loss: 0.7063 - val_acc: 0.9362\n",
            "Epoch 37/100\n",
            "7352/7352 [==============================] - 14s 2ms/step - loss: 0.1441 - acc: 0.9860 - val_loss: 0.8298 - val_acc: 0.9311\n",
            "Epoch 38/100\n",
            "7352/7352 [==============================] - 14s 2ms/step - loss: 0.1330 - acc: 0.9869 - val_loss: 0.8623 - val_acc: 0.9301\n",
            "Epoch 39/100\n",
            "7352/7352 [==============================] - 14s 2ms/step - loss: 0.1095 - acc: 0.9887 - val_loss: 0.7116 - val_acc: 0.9386\n",
            "Epoch 40/100\n",
            "7352/7352 [==============================] - 13s 2ms/step - loss: 0.1382 - acc: 0.9848 - val_loss: 0.7378 - val_acc: 0.9321\n",
            "Epoch 41/100\n",
            "7352/7352 [==============================] - 14s 2ms/step - loss: 0.0954 - acc: 0.9886 - val_loss: 0.6745 - val_acc: 0.9406\n",
            "Epoch 42/100\n",
            "7352/7352 [==============================] - 14s 2ms/step - loss: 0.1036 - acc: 0.9879 - val_loss: 0.5586 - val_acc: 0.9494\n",
            "Epoch 43/100\n",
            "7352/7352 [==============================] - 14s 2ms/step - loss: 0.0694 - acc: 0.9901 - val_loss: 0.7019 - val_acc: 0.9332\n",
            "Epoch 44/100\n",
            "7352/7352 [==============================] - 14s 2ms/step - loss: 0.0662 - acc: 0.9920 - val_loss: 0.5928 - val_acc: 0.9450\n",
            "Epoch 45/100\n",
            "7352/7352 [==============================] - 14s 2ms/step - loss: 0.0876 - acc: 0.9905 - val_loss: 0.6693 - val_acc: 0.9399\n",
            "Epoch 46/100\n",
            "7352/7352 [==============================] - 13s 2ms/step - loss: 0.0611 - acc: 0.9921 - val_loss: 0.5399 - val_acc: 0.9437\n",
            "Epoch 47/100\n",
            "7352/7352 [==============================] - 14s 2ms/step - loss: 0.0592 - acc: 0.9922 - val_loss: 0.6296 - val_acc: 0.9440\n",
            "Epoch 48/100\n",
            "7352/7352 [==============================] - 14s 2ms/step - loss: 0.1149 - acc: 0.9875 - val_loss: 0.8777 - val_acc: 0.9253\n",
            "Epoch 49/100\n",
            "7352/7352 [==============================] - 14s 2ms/step - loss: 0.1249 - acc: 0.9825 - val_loss: 0.6976 - val_acc: 0.9342\n",
            "Epoch 50/100\n",
            "7352/7352 [==============================] - 13s 2ms/step - loss: 0.1143 - acc: 0.9865 - val_loss: 0.7498 - val_acc: 0.9332\n",
            "Epoch 51/100\n",
            "7352/7352 [==============================] - 14s 2ms/step - loss: 0.0814 - acc: 0.9909 - val_loss: 0.9387 - val_acc: 0.9281\n",
            "Epoch 52/100\n",
            "7352/7352 [==============================] - 14s 2ms/step - loss: 0.1916 - acc: 0.9834 - val_loss: 0.6858 - val_acc: 0.9396\n",
            "Epoch 53/100\n",
            "7352/7352 [==============================] - 13s 2ms/step - loss: 0.1632 - acc: 0.9841 - val_loss: 0.6720 - val_acc: 0.9416\n",
            "Epoch 54/100\n",
            "7352/7352 [==============================] - 14s 2ms/step - loss: 0.1108 - acc: 0.9874 - val_loss: 0.6897 - val_acc: 0.9359\n",
            "Epoch 55/100\n",
            "7352/7352 [==============================] - 14s 2ms/step - loss: 0.0762 - acc: 0.9913 - val_loss: 0.6600 - val_acc: 0.9433\n",
            "Epoch 56/100\n",
            "7352/7352 [==============================] - 14s 2ms/step - loss: 0.2456 - acc: 0.9776 - val_loss: 1.2489 - val_acc: 0.9067\n",
            "Epoch 57/100\n",
            "7352/7352 [==============================] - 13s 2ms/step - loss: 0.3261 - acc: 0.9720 - val_loss: 0.7655 - val_acc: 0.9413\n",
            "Epoch 58/100\n",
            "7352/7352 [==============================] - 14s 2ms/step - loss: 0.1213 - acc: 0.9859 - val_loss: 0.7896 - val_acc: 0.9315\n",
            "Epoch 59/100\n",
            "7352/7352 [==============================] - 13s 2ms/step - loss: 0.0927 - acc: 0.9901 - val_loss: 0.6615 - val_acc: 0.9437\n",
            "Epoch 60/100\n",
            "7352/7352 [==============================] - 14s 2ms/step - loss: 0.0461 - acc: 0.9924 - val_loss: 0.5689 - val_acc: 0.9484\n",
            "Epoch 61/100\n",
            "7352/7352 [==============================] - 13s 2ms/step - loss: 0.0402 - acc: 0.9927 - val_loss: 0.5656 - val_acc: 0.9491\n",
            "Epoch 62/100\n",
            "7352/7352 [==============================] - 13s 2ms/step - loss: 0.0212 - acc: 0.9969 - val_loss: 0.5654 - val_acc: 0.9477\n",
            "Epoch 63/100\n",
            "7352/7352 [==============================] - 13s 2ms/step - loss: 0.0410 - acc: 0.9955 - val_loss: 0.6074 - val_acc: 0.9484\n",
            "Epoch 64/100\n",
            "7352/7352 [==============================] - 14s 2ms/step - loss: 0.0699 - acc: 0.9908 - val_loss: 0.6535 - val_acc: 0.9457\n",
            "Epoch 65/100\n",
            "7352/7352 [==============================] - 14s 2ms/step - loss: 0.1441 - acc: 0.9863 - val_loss: 0.8959 - val_acc: 0.9301\n",
            "Epoch 66/100\n",
            "7352/7352 [==============================] - 14s 2ms/step - loss: 0.1704 - acc: 0.9842 - val_loss: 0.8255 - val_acc: 0.9342\n",
            "Epoch 67/100\n",
            "7352/7352 [==============================] - 14s 2ms/step - loss: 0.0858 - acc: 0.9912 - val_loss: 0.6105 - val_acc: 0.9481\n",
            "Epoch 68/100\n",
            "7352/7352 [==============================] - 14s 2ms/step - loss: 0.1115 - acc: 0.9899 - val_loss: 0.6554 - val_acc: 0.9471\n",
            "Epoch 69/100\n",
            "7352/7352 [==============================] - 14s 2ms/step - loss: 0.1015 - acc: 0.9910 - val_loss: 0.7673 - val_acc: 0.9430\n",
            "Epoch 70/100\n",
            "7352/7352 [==============================] - 14s 2ms/step - loss: 0.1141 - acc: 0.9901 - val_loss: 0.6154 - val_acc: 0.9488\n",
            "Epoch 71/100\n",
            "7352/7352 [==============================] - 14s 2ms/step - loss: 0.0667 - acc: 0.9940 - val_loss: 0.6456 - val_acc: 0.9477\n",
            "Epoch 72/100\n",
            "7352/7352 [==============================] - 13s 2ms/step - loss: 0.0472 - acc: 0.9952 - val_loss: 0.6326 - val_acc: 0.9525\n",
            "Epoch 73/100\n",
            "7352/7352 [==============================] - 14s 2ms/step - loss: 0.0391 - acc: 0.9958 - val_loss: 0.6245 - val_acc: 0.9464\n",
            "Epoch 74/100\n",
            "7352/7352 [==============================] - 14s 2ms/step - loss: 0.0439 - acc: 0.9966 - val_loss: 0.5991 - val_acc: 0.9515\n",
            "Epoch 75/100\n",
            "7352/7352 [==============================] - 13s 2ms/step - loss: 0.0438 - acc: 0.9965 - val_loss: 0.6218 - val_acc: 0.9505\n",
            "Epoch 76/100\n",
            "7352/7352 [==============================] - 13s 2ms/step - loss: 0.0696 - acc: 0.9909 - val_loss: 0.6501 - val_acc: 0.9467\n",
            "Epoch 77/100\n",
            "7352/7352 [==============================] - 14s 2ms/step - loss: 0.0436 - acc: 0.9963 - val_loss: 0.6671 - val_acc: 0.9484\n",
            "Epoch 78/100\n",
            "7352/7352 [==============================] - 14s 2ms/step - loss: 0.0643 - acc: 0.9921 - val_loss: 0.6844 - val_acc: 0.9396\n",
            "Epoch 79/100\n",
            "7352/7352 [==============================] - 13s 2ms/step - loss: 0.0445 - acc: 0.9955 - val_loss: 0.6813 - val_acc: 0.9444\n",
            "Epoch 80/100\n",
            "7352/7352 [==============================] - 14s 2ms/step - loss: 0.0429 - acc: 0.9959 - val_loss: 0.6124 - val_acc: 0.9498\n",
            "Epoch 81/100\n",
            "7352/7352 [==============================] - 14s 2ms/step - loss: 0.0342 - acc: 0.9973 - val_loss: 0.6691 - val_acc: 0.9488\n",
            "Epoch 82/100\n",
            "7352/7352 [==============================] - 13s 2ms/step - loss: 0.0491 - acc: 0.9959 - val_loss: 0.6805 - val_acc: 0.9440\n",
            "Epoch 83/100\n",
            "7352/7352 [==============================] - 14s 2ms/step - loss: 0.0482 - acc: 0.9933 - val_loss: 0.7307 - val_acc: 0.9437\n",
            "Epoch 84/100\n",
            "7352/7352 [==============================] - 14s 2ms/step - loss: 0.0354 - acc: 0.9974 - val_loss: 0.6759 - val_acc: 0.9471\n",
            "Epoch 85/100\n",
            "7352/7352 [==============================] - 13s 2ms/step - loss: 0.0929 - acc: 0.9906 - val_loss: 0.5587 - val_acc: 0.9522\n",
            "Epoch 86/100\n",
            "7352/7352 [==============================] - 13s 2ms/step - loss: 0.0497 - acc: 0.9955 - val_loss: 0.5432 - val_acc: 0.9566\n",
            "Epoch 87/100\n",
            "7352/7352 [==============================] - 14s 2ms/step - loss: 0.0550 - acc: 0.9961 - val_loss: 0.5567 - val_acc: 0.9539\n",
            "Epoch 88/100\n",
            "7352/7352 [==============================] - 13s 2ms/step - loss: 0.0494 - acc: 0.9966 - val_loss: 0.5472 - val_acc: 0.9583\n",
            "Epoch 89/100\n",
            "7352/7352 [==============================] - 13s 2ms/step - loss: 0.0761 - acc: 0.9942 - val_loss: 0.9984 - val_acc: 0.9294\n",
            "Epoch 90/100\n",
            "7352/7352 [==============================] - 13s 2ms/step - loss: 0.2528 - acc: 0.9776 - val_loss: 0.5197 - val_acc: 0.9518\n",
            "Epoch 91/100\n",
            "7352/7352 [==============================] - 13s 2ms/step - loss: 0.1750 - acc: 0.9833 - val_loss: 0.6426 - val_acc: 0.9491\n",
            "Epoch 92/100\n",
            "7352/7352 [==============================] - 14s 2ms/step - loss: 0.1045 - acc: 0.9894 - val_loss: 0.7084 - val_acc: 0.9410\n",
            "Epoch 93/100\n",
            "7352/7352 [==============================] - 13s 2ms/step - loss: 0.1089 - acc: 0.9880 - val_loss: 0.5694 - val_acc: 0.9525\n",
            "Epoch 94/100\n",
            "7352/7352 [==============================] - 13s 2ms/step - loss: 0.0763 - acc: 0.9927 - val_loss: 0.6925 - val_acc: 0.9450\n",
            "Epoch 95/100\n",
            "7352/7352 [==============================] - 14s 2ms/step - loss: 0.0490 - acc: 0.9955 - val_loss: 0.6915 - val_acc: 0.9464\n",
            "Epoch 96/100\n",
            "7352/7352 [==============================] - 14s 2ms/step - loss: 0.0419 - acc: 0.9967 - val_loss: 0.6645 - val_acc: 0.9501\n",
            "Epoch 97/100\n",
            "7352/7352 [==============================] - 14s 2ms/step - loss: 0.0499 - acc: 0.9954 - val_loss: 0.6668 - val_acc: 0.9467\n",
            "Epoch 98/100\n",
            "7352/7352 [==============================] - 14s 2ms/step - loss: 0.0395 - acc: 0.9970 - val_loss: 0.6390 - val_acc: 0.9484\n",
            "Epoch 99/100\n",
            "7352/7352 [==============================] - 14s 2ms/step - loss: 0.0511 - acc: 0.9950 - val_loss: 0.6435 - val_acc: 0.9501\n",
            "Epoch 100/100\n",
            "7352/7352 [==============================] - 13s 2ms/step - loss: 0.0551 - acc: 0.9959 - val_loss: 0.6429 - val_acc: 0.9522\n",
            "Train loss: 0.04852232670836719, Train accuracy: 0.9970076169749728\n",
            "Test loss: 0.6428508904036662, Test accuracy: 0.9521547336476432\n"
          ],
          "name": "stdout"
        },
        {
          "output_type": "display_data",
          "data": {
            "image/png": "[encoded data removed]",
            "text/plain": [
              "<Figure size 864x432 with 2 Axes>"
            ]
          },
          "metadata": {
            "tags": []
          }
        }
      ]
    }
  ]
}